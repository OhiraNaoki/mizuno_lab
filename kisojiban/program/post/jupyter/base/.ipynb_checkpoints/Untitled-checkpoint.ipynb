{
 "cells": [
  {
   "cell_type": "code",
   "execution_count": 3,
   "metadata": {},
   "outputs": [],
   "source": [
    "with open(\"femmesh1.dat\") as file:\n",
    "    lines = file.read().splitlines()"
   ]
  },
  {
   "cell_type": "code",
   "execution_count": 4,
   "metadata": {},
   "outputs": [
    {
     "data": {
      "text/plain": [
       "['#TPTMS10',\n",
       " '#',\n",
       " '# TXTtoRTS 用テキストデータファイル',\n",
       " '# この形式のファイルからTMSPost用のrtsファイルを作成することができる',\n",
       " '# 1行目にはファイルタイプを示すプレフィックスが必要',\n",
       " '# 「#」以降はコメント行となる',\n",
       " '#',\n",
       " '# ---------------------------------------------------',\n",
       " '# このファイルの属性を定義する',\n",
       " '#   description=解析タイトル',\n",
       " '#',\n",
       " '[ATTRIBUTE]',\n",
       " '  description=\"サンプルファイル\"',\n",
       " '',\n",
       " '# ---------------------------------------------------',\n",
       " '# 計算結果アイテムを定義する',\n",
       " '#   名称={出力対象, 属性}',\n",
       " '#',\n",
       " '#   出力対象：節点=-1  要素=0',\n",
       " '#   属性    ：',\n",
       " '#',\n",
       " '[ITEM]',\n",
       " '  X方向変位={-1, 1}',\n",
       " '  Y方向変位={-1, 2}',\n",
       " '  応力={ 0, 0}',\n",
       " '',\n",
       " '# ---------------------------------------------------',\n",
       " '# 節点を定義する',\n",
       " '#   節点番号={X座標, Y座標}',\n",
       " '#   ※節点番号は非連続でも可。ただし、節点固有の番号であること＆ゼロ以上の整数であること',\n",
       " '#',\n",
       " '[NODE]',\n",
       " '  1={  0.0,  0.0}',\n",
       " '  2={  0.0, -1.0}',\n",
       " '  3={  0.0, -2.0}',\n",
       " '  4={  1.0,  0.0}',\n",
       " '  5={  1.0, -1.0}',\n",
       " '  6={  1.0, -2.0}',\n",
       " '',\n",
       " '# ---------------------------------------------------',\n",
       " '# 要素を定義する',\n",
       " '#   要素番号={要素構成節点１,...,要素構成節点N}',\n",
       " '#',\n",
       " '[ELEMENT]',\n",
       " '  1={1, 2, 5, 4}',\n",
       " '  2={2, 3, 6, 5}',\n",
       " '',\n",
       " '# ---------------------------------------------------',\n",
       " '# １ステップの計算結果を定義 以下の順番で記述する必要がある',\n",
       " '#    time=経過時間',\n",
       " '#    procname=工程名称',\n",
       " '#    アイテム名称={計算結果...}',\n",
       " '#',\n",
       " '[STEP]',\n",
       " '  time=0.0',\n",
       " '  procname=\"初期\"',\n",
       " '    X方向変位={-0.10, -0.07, -0.02,  0.15,  0.10, 0.05}',\n",
       " '    Y方向変位={-0.10, -0.05,  0.00, -0.12, -0.08, 0.00}',\n",
       " '    応力={1.5, 1.0}',\n",
       " '',\n",
       " '[STEP]',\n",
       " '  time=1.0',\n",
       " '  procname=\"最終\"',\n",
       " '    X方向変位={-0.17, -0.10, -0.03,  0.28,  0.20, 0.11}',\n",
       " '    Y方向変位={-0.15, -0.09,  0.00, -0.22, -0.13, 0.00}',\n",
       " '    応力={2.1, 1.2}',\n",
       " '']"
      ]
     },
     "execution_count": 4,
     "metadata": {},
     "output_type": "execute_result"
    }
   ],
   "source": [
    "lines"
   ]
  },
  {
   "cell_type": "code",
   "execution_count": 7,
   "metadata": {},
   "outputs": [
    {
     "ename": "UnicodeDecodeError",
     "evalue": "'utf-8' codec can't decode byte 0x95 in position 40: invalid start byte",
     "output_type": "error",
     "traceback": [
      "\u001b[1;31m---------------------------------------------------------------------------\u001b[0m",
      "\u001b[1;31mUnicodeDecodeError\u001b[0m                        Traceback (most recent call last)",
      "\u001b[1;32m<ipython-input-7-c3397eedccee>\u001b[0m in \u001b[0;36m<module>\u001b[1;34m\u001b[0m\n\u001b[0;32m      1\u001b[0m \u001b[1;32mwith\u001b[0m \u001b[0mopen\u001b[0m\u001b[1;33m(\u001b[0m\u001b[1;34m\"femmesh1.rts\"\u001b[0m\u001b[1;33m,\u001b[0m \u001b[0mmode\u001b[0m\u001b[1;33m=\u001b[0m\u001b[1;34m\"r\"\u001b[0m\u001b[1;33m,\u001b[0m \u001b[0mencoding\u001b[0m\u001b[1;33m=\u001b[0m\u001b[1;34m\"utf-8\"\u001b[0m\u001b[1;33m)\u001b[0m \u001b[1;32mas\u001b[0m \u001b[0mfile\u001b[0m\u001b[1;33m:\u001b[0m\u001b[1;33m\u001b[0m\u001b[1;33m\u001b[0m\u001b[0m\n\u001b[1;32m----> 2\u001b[1;33m     \u001b[0mlines\u001b[0m \u001b[1;33m=\u001b[0m \u001b[0mfile\u001b[0m\u001b[1;33m.\u001b[0m\u001b[0mread\u001b[0m\u001b[1;33m(\u001b[0m\u001b[1;33m)\u001b[0m\u001b[1;33m.\u001b[0m\u001b[0msplitlines\u001b[0m\u001b[1;33m(\u001b[0m\u001b[1;33m)\u001b[0m\u001b[1;33m\u001b[0m\u001b[1;33m\u001b[0m\u001b[0m\n\u001b[0m",
      "\u001b[1;32mc:\\users\\pc-kazu-w2\\appdata\\local\\programs\\python\\python38\\lib\\codecs.py\u001b[0m in \u001b[0;36mdecode\u001b[1;34m(self, input, final)\u001b[0m\n\u001b[0;32m    320\u001b[0m         \u001b[1;31m# decode input (taking the buffer into account)\u001b[0m\u001b[1;33m\u001b[0m\u001b[1;33m\u001b[0m\u001b[1;33m\u001b[0m\u001b[0m\n\u001b[0;32m    321\u001b[0m         \u001b[0mdata\u001b[0m \u001b[1;33m=\u001b[0m \u001b[0mself\u001b[0m\u001b[1;33m.\u001b[0m\u001b[0mbuffer\u001b[0m \u001b[1;33m+\u001b[0m \u001b[0minput\u001b[0m\u001b[1;33m\u001b[0m\u001b[1;33m\u001b[0m\u001b[0m\n\u001b[1;32m--> 322\u001b[1;33m         \u001b[1;33m(\u001b[0m\u001b[0mresult\u001b[0m\u001b[1;33m,\u001b[0m \u001b[0mconsumed\u001b[0m\u001b[1;33m)\u001b[0m \u001b[1;33m=\u001b[0m \u001b[0mself\u001b[0m\u001b[1;33m.\u001b[0m\u001b[0m_buffer_decode\u001b[0m\u001b[1;33m(\u001b[0m\u001b[0mdata\u001b[0m\u001b[1;33m,\u001b[0m \u001b[0mself\u001b[0m\u001b[1;33m.\u001b[0m\u001b[0merrors\u001b[0m\u001b[1;33m,\u001b[0m \u001b[0mfinal\u001b[0m\u001b[1;33m)\u001b[0m\u001b[1;33m\u001b[0m\u001b[1;33m\u001b[0m\u001b[0m\n\u001b[0m\u001b[0;32m    323\u001b[0m         \u001b[1;31m# keep undecoded input until the next call\u001b[0m\u001b[1;33m\u001b[0m\u001b[1;33m\u001b[0m\u001b[1;33m\u001b[0m\u001b[0m\n\u001b[0;32m    324\u001b[0m         \u001b[0mself\u001b[0m\u001b[1;33m.\u001b[0m\u001b[0mbuffer\u001b[0m \u001b[1;33m=\u001b[0m \u001b[0mdata\u001b[0m\u001b[1;33m[\u001b[0m\u001b[0mconsumed\u001b[0m\u001b[1;33m:\u001b[0m\u001b[1;33m]\u001b[0m\u001b[1;33m\u001b[0m\u001b[1;33m\u001b[0m\u001b[0m\n",
      "\u001b[1;31mUnicodeDecodeError\u001b[0m: 'utf-8' codec can't decode byte 0x95 in position 40: invalid start byte"
     ]
    }
   ],
   "source": [
    "with open(\"femmesh1.rts\", mode=\"r\", encoding=\"utf-8\") as file:\n",
    "    lines = file.read().splitlines()"
   ]
  },
  {
   "cell_type": "code",
   "execution_count": null,
   "metadata": {},
   "outputs": [],
   "source": []
  },
  {
   "cell_type": "code",
   "execution_count": null,
   "metadata": {},
   "outputs": [],
   "source": []
  },
  {
   "cell_type": "code",
   "execution_count": null,
   "metadata": {},
   "outputs": [],
   "source": []
  },
  {
   "cell_type": "code",
   "execution_count": null,
   "metadata": {},
   "outputs": [],
   "source": []
  },
  {
   "cell_type": "code",
   "execution_count": 2,
   "metadata": {},
   "outputs": [
    {
     "name": "stdin",
     "output_type": "stream",
     "text": [
      "IF STATIC ANALYSIS = 1\n",
      "IF SEEPAGE FLOW ANALYSIS = 2\n",
      "IF DEFORMATION ANALYSIS = 3\n",
      "IF DEFORMATION & SEEPAGE ANALYSIS = 4\n",
      " 1\n",
      "CONSIDER WATER?\n",
      "YES:1\n",
      "NO:0\n",
      " 1\n",
      "WHAT OUTPUT STEP NUMBER ?\n",
      " 1\n"
     ]
    }
   ],
   "source": []
  },
  {
   "cell_type": "code",
   "execution_count": null,
   "metadata": {},
   "outputs": [],
   "source": []
  }
 ],
 "metadata": {
  "kernelspec": {
   "display_name": "Python 3",
   "language": "python",
   "name": "python3"
  },
  "language_info": {
   "codemirror_mode": {
    "name": "ipython",
    "version": 3
   },
   "file_extension": ".py",
   "mimetype": "text/x-python",
   "name": "python",
   "nbconvert_exporter": "python",
   "pygments_lexer": "ipython3",
   "version": "3.8.6"
  }
 },
 "nbformat": 4,
 "nbformat_minor": 4
}
