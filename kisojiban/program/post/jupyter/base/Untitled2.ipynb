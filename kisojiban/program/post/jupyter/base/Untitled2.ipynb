{
 "cells": [
  {
   "cell_type": "code",
   "execution_count": null,
   "metadata": {},
   "outputs": [],
   "source": []
  },
  {
   "cell_type": "code",
   "execution_count": 100,
   "metadata": {},
   "outputs": [],
   "source": [
    "def create_SE(lines, nem, num):\n",
    "    SE = {}\n",
    "    for i in range(num):\n",
    "        SE_list = []\n",
    "        time = int(float(lines[(nem + 4) * i + 3].split()[0]))\n",
    "        print(lines[(nem + 4) * i + 3].split()[1])\n",
    "        for j in range(nem):\n",
    "            SE_list.append(lines[(nem + 4) * i + 5 + j].split()[1])\n",
    "        SE[i] = SE_list      \n",
    "    return SE\n",
    "    "
   ]
  },
  {
   "cell_type": "code",
   "execution_count": 101,
   "metadata": {},
   "outputs": [],
   "source": [
    "path_seepage = r\"D:\\kisojibann\\program\\post\\program\\sampleData\\2 hyouzyunsa\\out_seepage_element.d\"\n",
    "with open(path_seepage, \"r\", encoding='CP932') as file:\n",
    "    lines_seepage = file.read().splitlines()\n",
    "\n",
    "step_count = lines_seepage.count(\"   NSTEP & TIME\")"
   ]
  },
  {
   "cell_type": "code",
   "execution_count": 102,
   "metadata": {},
   "outputs": [
    {
     "name": "stdout",
     "output_type": "stream",
     "text": [
      "10.0000000000\n",
      "10800.0000000000\n",
      "21600.0000000000\n",
      "32400.0000000000\n",
      "43200.0000000000\n",
      "54000.0000000000\n",
      "64800.0000000000\n",
      "75600.0000000000\n",
      "86400.0000000000\n"
     ]
    }
   ],
   "source": [
    "nem = 620\n",
    "SE = create_SE(lines_seepage, nem, step_count)"
   ]
  },
  {
   "cell_type": "code",
   "execution_count": 103,
   "metadata": {},
   "outputs": [
    {
     "name": "stdout",
     "output_type": "stream",
     "text": [
      "0\n",
      "1\n",
      "2\n",
      "3\n",
      "4\n",
      "5\n",
      "6\n",
      "7\n",
      "8\n"
     ]
    }
   ],
   "source": [
    "for time in SE.keys():\n",
    "    print(time)"
   ]
  },
  {
   "cell_type": "code",
   "execution_count": 62,
   "metadata": {},
   "outputs": [
    {
     "ename": "AttributeError",
     "evalue": "'dict' object has no attribute 'key'",
     "output_type": "error",
     "traceback": [
      "\u001b[1;31m---------------------------------------------------------------------------\u001b[0m",
      "\u001b[1;31mAttributeError\u001b[0m                            Traceback (most recent call last)",
      "\u001b[1;32m<ipython-input-62-3988c7ac93c2>\u001b[0m in \u001b[0;36m<module>\u001b[1;34m\u001b[0m\n\u001b[1;32m----> 1\u001b[1;33m \u001b[0mSE\u001b[0m\u001b[1;33m.\u001b[0m\u001b[0mkey\u001b[0m\u001b[1;33m[\u001b[0m\u001b[1;36m9\u001b[0m\u001b[1;33m]\u001b[0m\u001b[1;33m\u001b[0m\u001b[1;33m\u001b[0m\u001b[0m\n\u001b[0m",
      "\u001b[1;31mAttributeError\u001b[0m: 'dict' object has no attribute 'key'"
     ]
    }
   ],
   "source": []
  },
  {
   "cell_type": "code",
   "execution_count": null,
   "metadata": {},
   "outputs": [],
   "source": []
  }
 ],
 "metadata": {
  "kernelspec": {
   "display_name": "Python 3",
   "language": "python",
   "name": "python3"
  },
  "language_info": {
   "codemirror_mode": {
    "name": "ipython",
    "version": 3
   },
   "file_extension": ".py",
   "mimetype": "text/x-python",
   "name": "python",
   "nbconvert_exporter": "python",
   "pygments_lexer": "ipython3",
   "version": "3.8.6"
  }
 },
 "nbformat": 4,
 "nbformat_minor": 4
}
