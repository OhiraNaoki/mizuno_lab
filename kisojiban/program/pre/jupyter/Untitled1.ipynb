{
 "cells": [
  {
   "cell_type": "code",
   "execution_count": null,
   "metadata": {},
   "outputs": [],
   "source": [
    "#         node[:, 1][n1] = aa[2][0]\n",
    "#         node[:, 1][n2] = aa[0][0]\n",
    "#         node[:, 1][n3] = aa[1][0]\n",
    "#         node[:, 1][n4] = aa[3][0]\n",
    "\n",
    "#         node[:, 2][n1] = aa[2][1]\n",
    "#         node[:, 2][n2] = aa[0][1]\n",
    "#         node[:, 2][n3] = aa[1][1]\n",
    "#         node[:, 2][n4] = aa[3][1]\n",
    "\n",
    "#         n1=element[i,0]-1; x1=node[:, 1][n1]; y1=node[:, 2][n1]\n",
    "#         n2=element[i,1]-1; x2=node[:, 1][n2]; y2=node[:, 2][n2]\n",
    "#         n3=element[i,2]-1; x3=node[:, 1][n3]; y3=node[:, 2][n3]\n",
    "#         n4=element[i,3]-1; x4=node[:, 1][n4]; y4=node[:, 2][n4]        \n",
    "\n",
    "#         if x1 > x3:\n",
    "#             print(\"a\", element[i])\n",
    "#             print(x1, x2, x3, x4)\n",
    "#             print(y1, y2, y3, y4)\n",
    "# #             node[:, 1][n1], node[:, 1][n4] = node[:, 1][n4], node[:, 1][n1]\n",
    "# #             node[:, 2][n1], node[:, 2][n4] = node[:, 2][n4], node[:, 2][n1]\n",
    "#         elif x1 > x4:\n",
    "#             print(\"b\", element[i])\n",
    "#             print(x1, x2, x3, x4)\n",
    "#             print(y1, y2, y3, y4)\n",
    "#         elif y1 < y2:\n",
    "#             print(\"c\")\n",
    "#         elif y1 < y3:\n",
    "#             print(\"d\")\n",
    "\n",
    "#         if not y1 > y2:\n",
    "#             node[:, 1][n1], node[:, 1][n2] = node[:, 1][n2], node[:, 1][n1]\n",
    "#             node[:, 2][n1], node[:, 2][n2] = node[:, 2][n2], node[:, 2][n1]\n",
    "\n",
    "#         elif not y1 > y3:\n",
    "#             node[:, 1][n3], node[:, 1][n1] = node[:, 1][n1], node[:, 1][n3]\n",
    "#             node[:, 2][n3], node[:, 2][n1] = node[:, 2][n1], node[:, 2][n3]\n",
    "#             print(\"c\")\n",
    "#         elif not x3 > x1:\n",
    "#             node[:, 1][n3], node[:, 1][n1] = node[:, 1][n1], node[:, 1][n3]\n",
    "#             node[:, 2][n3], node[:, 2][n1] = node[:, 2][n1], node[:, 2][n3]\n",
    "#             print(\"b\")\n",
    "#         elif not x4 > x1:\n",
    "#             node[:, 1][n1], node[:, 1][n4] = node[:, 1][n4], node[:, 1][n1]\n",
    "#             node[:, 2][n1], node[:, 2][n4] = node[:, 2][n4], node[:, 2][n1]\n",
    "#             print(\"a\")\n"
   ]
  }
 ],
 "metadata": {
  "kernelspec": {
   "display_name": "Python 3",
   "language": "python",
   "name": "python3"
  },
  "language_info": {
   "codemirror_mode": {
    "name": "ipython",
    "version": 3
   },
   "file_extension": ".py",
   "mimetype": "text/x-python",
   "name": "python",
   "nbconvert_exporter": "python",
   "pygments_lexer": "ipython3",
   "version": "3.8.6"
  }
 },
 "nbformat": 4,
 "nbformat_minor": 4
}
