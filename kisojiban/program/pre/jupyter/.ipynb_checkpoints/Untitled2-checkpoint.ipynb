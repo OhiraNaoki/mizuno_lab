{
 "cells": [
  {
   "cell_type": "code",
   "execution_count": 2,
   "metadata": {},
   "outputs": [],
   "source": [
    "import sys\n",
    "import numpy as np"
   ]
  },
  {
   "cell_type": "code",
   "execution_count": 152,
   "metadata": {},
   "outputs": [
    {
     "name": "stdout",
     "output_type": "stream",
     "text": [
      "4706 4535\n"
     ]
    }
   ],
   "source": [
    "def get_index(l, x):\n",
    "    idx = [i for i, j in enumerate(l) if x in j]\n",
    "    if len(idx) == 1:\n",
    "        return idx[0]\n",
    "    elif len(idx) == 0:\n",
    "        print(\"ファイル内に［{}］を確認できませんでした\".format(x))\n",
    "        sys.exit()\n",
    "    else:\n",
    "        print(\"ファイルの中身が正しくありません。［{}］を確認してください。\".format(x))\n",
    "        sys.exit()\n",
    "\n",
    "    \n",
    "\n",
    "\n",
    "\n",
    "with open(\"sample2.MSH\", mode=\"r\") as file:\n",
    "    lines = file.read().splitlines()\n",
    "\n",
    "\n",
    "node_row = get_index(lines, \"NODE\")\n",
    "element_row = get_index(lines, \"ELEMENT\")\n",
    "\n",
    "npm = element_row - node_row - 1\n",
    "\n",
    "nem = get_index(lines, \"LINE\") - element_row - 1\n",
    "\n",
    "\n",
    "print(npm, nem)"
   ]
  },
  {
   "cell_type": "code",
   "execution_count": 178,
   "metadata": {},
   "outputs": [],
   "source": [
    "\"\"\"\n",
    "    座標取得\n",
    "    0: 接点番号\n",
    "    1: x座標値\n",
    "    2: y座標値\n",
    "    \n",
    "\"\"\"\n",
    "nod = 4\n",
    "element = np.zeros([nem, nod+1], dtype=np.int64)\n",
    "x = np.zeros(npm, dtype=np.float64)\n",
    "y = np.zeros(npm, dtype=np.float64)\n",
    "node = np.zeros([npm, 3], dtype=np.float64)\n",
    "\n",
    "for i, n in enumerate(range(node_row+1, node_row+npm+1, 1)):\n",
    "    node[i, 0] = int(lines[n].split()[0])\n",
    "    node[i, 1] = float(lines[n].split()[-2])\n",
    "    node[i, 2] = float(lines[n].split()[-1])\n",
    "\n",
    "node[:, 1] = np.round(node[:, 1] + np.abs(min(node[:, 1])), 4)\n",
    "node[:, 2] = np.round(node[:, 2] + np.abs(min(node[:, 2])), 4)\n",
    "node = np.array(node)\n",
    "# node = sorted(node, key=lambda x:(x[1]))\n",
    "# node = sorted(node, key=lambda x:(x[2]))\n",
    "# node = np.array(node)\n",
    "# for i in range(npm):\n",
    "#     node[i, 3] = i + 1\n",
    "\n",
    "    \n",
    "    \n",
    "for i, n in enumerate(range(element_row+1, element_row+nem+1, 1)):\n",
    "    sep = lines[n].split()\n",
    "    element[i, 0] = int(sep[1]) # node_1\n",
    "    element[i, 1] = int(sep[2]) # node_2\n",
    "    element[i, 2] = int(sep[3]) # node_3\n",
    "    if len(sep) != 5:\n",
    "        element[i, 3] = int(sep[4]) # node_4\n",
    "    elif len(sep) == 5:\n",
    "        element[i, 3] = 0 # node_4\n",
    "    element[i, 4] = int(sep[-1]) # section number\n",
    "\n",
    "# for i in range(len(element)):\n",
    "#     element[i, 0] = int(node[np.where(element[i, 0]==node[:,0]), 3][0][0])\n",
    "#     element[i, 1] = int(node[np.where(element[i, 1]==node[:,0]), 3][0][0])\n",
    "#     element[i, 2] = int(node[np.where(element[i, 2]==node[:,0]), 3][0][0])\n",
    "#     if element[i, 3] == 0:\n",
    "#         continue\n",
    "#     element[i, 3] = int(node[np.where(element[i, 3]==node[:,0]), 3][0][0]) "
   ]
  },
  {
   "cell_type": "code",
   "execution_count": 179,
   "metadata": {},
   "outputs": [
    {
     "data": {
      "text/plain": [
       "array([[1.0000e+00, 0.0000e+00, 0.0000e+00],\n",
       "       [2.0000e+00, 1.5000e+00, 0.0000e+00],\n",
       "       [3.0000e+00, 3.0000e+00, 0.0000e+00],\n",
       "       ...,\n",
       "       [4.7040e+03, 6.1275e+01, 2.0750e+01],\n",
       "       [4.7050e+03, 6.0800e+01, 2.1200e+01],\n",
       "       [4.7060e+03, 6.1300e+01, 2.1200e+01]])"
      ]
     },
     "execution_count": 179,
     "metadata": {},
     "output_type": "execute_result"
    }
   ],
   "source": [
    "node"
   ]
  },
  {
   "cell_type": "code",
   "execution_count": 180,
   "metadata": {},
   "outputs": [],
   "source": [
    "element = sorted(element.tolist(), key=lambda x:(x[1]))\n",
    "element = np.array(element)"
   ]
  },
  {
   "cell_type": "code",
   "execution_count": 181,
   "metadata": {},
   "outputs": [
    {
     "data": {
      "text/plain": [
       "array([[   1,    2,  146,  145,    6],\n",
       "       [   2,    3,  147,  146,    6],\n",
       "       [   3,    4,  148,  147,    6],\n",
       "       ...,\n",
       "       [4645, 4646, 4704, 4703,    1],\n",
       "       [4702, 4703, 4705,    0,    1],\n",
       "       [4703, 4704, 4706, 4705,    1]])"
      ]
     },
     "execution_count": 181,
     "metadata": {},
     "output_type": "execute_result"
    }
   ],
   "source": [
    "element"
   ]
  },
  {
   "cell_type": "code",
   "execution_count": 182,
   "metadata": {},
   "outputs": [],
   "source": [
    "\"\"\"\n",
    "    1要素を構成する接点の並びを確認および修正するプログラム\n",
    "\"\"\"\n",
    "# node_n = np.copy(node)\n",
    "for i in range(len(element)):\n",
    "    if element[i][3] != 0:\n",
    "#         print(element[i])\n",
    "        aa = np.zeros([4, 2], dtype=np.float64)\n",
    "        n1=element[i,0]-1; aa[0, 0]=node[:, 1][n1]; aa[0, 1]=node[:, 2][n1]\n",
    "        n2=element[i,1]-1; aa[1, 0]=node[:, 1][n2]; aa[1, 1]=node[:, 2][n2]\n",
    "        n3=element[i,2]-1; aa[2, 0]=node[:, 1][n3]; aa[2, 1]=node[:, 2][n3]\n",
    "        n4=element[i,3]-1; aa[3, 0]=node[:, 1][n4]; aa[3, 1]=node[:, 2][n4]\n",
    "        \n",
    "        \n",
    "\n",
    "        aa = [list(i) for i in aa]\n",
    "        x_sort = sorted(aa, key=lambda x:(x[0]), reverse=False)\n",
    "        y_sort = sorted(aa, key=lambda x:(x[1]), reverse=False)\n",
    "        x_sortR = sorted(aa, key=lambda x:(x[0]), reverse=True)\n",
    "        y_sortR = sorted(aa, key=lambda x:(x[1]), reverse=True)\n",
    "            \n",
    "        y_max = y_sortR[:2]\n",
    "        y_min = y_sort[:2]\n",
    "        x_max = x_sortR[:2]\n",
    "        x_min = x_sort[:2]\n",
    "        \n",
    "        if x_sort[1][0] == x_sort[2][0]:\n",
    "            n_1 = x_sort[0]\n",
    "            n_2  = [i for i in x_max if i in y_min][0]\n",
    "            n_3  = [i for i in x_min if i in y_max][0]\n",
    "            n_4 = x_sort[3]\n",
    "        elif y_sort[1][1] == y_sort[2][1]:\n",
    "            n_1  = [i for i in x_min if i in y_min][0]\n",
    "            n_2  = y_sort[0]\n",
    "            n_3  = y_sort[3]\n",
    "            n_4  = [i for i in x_max if i in y_max][0]\n",
    "        else:\n",
    "            n_1  = [i for i in x_min if i in y_min][0]\n",
    "            n_2  = [i for i in x_max if i in y_min][0]\n",
    "            n_3  = [i for i in x_min if i in y_max][0]\n",
    "            n_4  = [i for i in x_max if i in y_max][0]\n",
    "\n",
    "\n",
    "        element[i, 0] = int(node[np.where((n_3[0]==node[:,1]) & (n_3[1]==node[:,2])), 0][0][0])\n",
    "        element[i, 1] = int(node[np.where((n_1[0]==node[:,1]) & (n_1[1]==node[:,2])), 0][0][0])\n",
    "        element[i, 2] = int(node[np.where((n_2[0]==node[:,1]) & (n_2[1]==node[:,2])), 0][0][0])\n",
    "        element[i, 3] = int(node[np.where((n_4[0]==node[:,1]) & (n_4[1]==node[:,2])), 0][0][0])\n",
    "\n",
    "\n",
    "\n",
    "\n",
    "\n",
    "\n",
    "    if element[i][3] == 0:\n",
    "        aa = np.zeros([3, 2], dtype=np.float64)\n",
    "        n1=element[i,0]-1; aa[0, 0]=node[:, 1][n1]; aa[0, 1]=node[:, 2][n1]\n",
    "        n2=element[i,1]-1; aa[1, 0]=node[:, 1][n2]; aa[1, 1]=node[:, 2][n2]\n",
    "        n3=element[i,2]-1; aa[2, 0]=node[:, 1][n3]; aa[2, 1]=node[:, 2][n3]\n",
    "\n",
    "        \n"
   ]
  },
  {
   "cell_type": "code",
   "execution_count": 174,
   "metadata": {},
   "outputs": [
    {
     "ename": "IndexError",
     "evalue": "list index out of range",
     "output_type": "error",
     "traceback": [
      "\u001b[1;31m---------------------------------------------------------------------------\u001b[0m",
      "\u001b[1;31mIndexError\u001b[0m                                Traceback (most recent call last)",
      "\u001b[1;32m<ipython-input-174-7ba13387dfb0>\u001b[0m in \u001b[0;36m<module>\u001b[1;34m\u001b[0m\n\u001b[0;32m     29\u001b[0m         \u001b[0mn_4\u001b[0m \u001b[1;33m=\u001b[0m \u001b[0mx_sort\u001b[0m\u001b[1;33m[\u001b[0m\u001b[1;36m3\u001b[0m\u001b[1;33m]\u001b[0m\u001b[1;33m\u001b[0m\u001b[1;33m\u001b[0m\u001b[0m\n\u001b[0;32m     30\u001b[0m     \u001b[1;32melif\u001b[0m \u001b[0my_sort\u001b[0m\u001b[1;33m[\u001b[0m\u001b[1;36m1\u001b[0m\u001b[1;33m]\u001b[0m\u001b[1;33m[\u001b[0m\u001b[1;36m1\u001b[0m\u001b[1;33m]\u001b[0m \u001b[1;33m==\u001b[0m \u001b[0my_sort\u001b[0m\u001b[1;33m[\u001b[0m\u001b[1;36m2\u001b[0m\u001b[1;33m]\u001b[0m\u001b[1;33m[\u001b[0m\u001b[1;36m1\u001b[0m\u001b[1;33m]\u001b[0m\u001b[1;33m:\u001b[0m\u001b[1;33m\u001b[0m\u001b[1;33m\u001b[0m\u001b[0m\n\u001b[1;32m---> 31\u001b[1;33m         \u001b[0mn_1\u001b[0m  \u001b[1;33m=\u001b[0m \u001b[1;33m[\u001b[0m\u001b[0mi\u001b[0m \u001b[1;32mfor\u001b[0m \u001b[0mi\u001b[0m \u001b[1;32min\u001b[0m \u001b[0mx_min\u001b[0m \u001b[1;32mif\u001b[0m \u001b[0mi\u001b[0m \u001b[1;32min\u001b[0m \u001b[0my_min\u001b[0m\u001b[1;33m]\u001b[0m\u001b[1;33m[\u001b[0m\u001b[1;36m0\u001b[0m\u001b[1;33m]\u001b[0m\u001b[1;33m\u001b[0m\u001b[1;33m\u001b[0m\u001b[0m\n\u001b[0m\u001b[0;32m     32\u001b[0m         \u001b[0mn_2\u001b[0m  \u001b[1;33m=\u001b[0m \u001b[0my_sort\u001b[0m\u001b[1;33m[\u001b[0m\u001b[1;36m0\u001b[0m\u001b[1;33m]\u001b[0m\u001b[1;33m\u001b[0m\u001b[1;33m\u001b[0m\u001b[0m\n\u001b[0;32m     33\u001b[0m         \u001b[0mn_3\u001b[0m  \u001b[1;33m=\u001b[0m \u001b[0my_sort\u001b[0m\u001b[1;33m[\u001b[0m\u001b[1;36m3\u001b[0m\u001b[1;33m]\u001b[0m\u001b[1;33m\u001b[0m\u001b[1;33m\u001b[0m\u001b[0m\n",
      "\u001b[1;31mIndexError\u001b[0m: list index out of range"
     ]
    }
   ],
   "source": [
    "\"\"\"\n",
    "    1要素を構成する接点の並びを確認および修正するプログラム\n",
    "\"\"\"\n",
    "# node_n = np.copy(node)\n",
    "for i in range(len(element)):\n",
    "    if element[i][3] != 0:\n",
    "\n",
    "        aa = np.zeros([nod, 2], dtype=np.float64)\n",
    "        n1=element[i,0]-1; aa[0, 0]=node[:, 1][n1]; aa[0, 1]=node[:, 2][n1]\n",
    "        n2=element[i,1]-1; aa[1, 0]=node[:, 1][n2]; aa[1, 1]=node[:, 2][n2]\n",
    "        n3=element[i,2]-1; aa[2, 0]=node[:, 1][n3]; aa[2, 1]=node[:, 2][n3]\n",
    "        n4=element[i,3]-1; aa[3, 0]=node[:, 1][n4]; aa[3, 1]=node[:, 2][n4]\n",
    "\n",
    "        aa = [list(i) for i in aa]\n",
    "\n",
    "        x_sort=sorted(aa, key=lambda x:(x[0]), reverse=False); x_min=x_sort[:2]\n",
    "        y_sort=sorted(aa, key=lambda x:(x[1]), reverse=False); y_min=y_sort[:2]\n",
    "        x_sortR=sorted(aa, key=lambda x:(x[0]), reverse=True); x_max=x_sortR[:2]\n",
    "        y_sortR=sorted(aa, key=lambda x:(x[1]), reverse=True); y_max=y_sortR[:2]\n",
    "\n",
    "        y_max = y_sortR[:2]\n",
    "        y_min = y_sort[:2]\n",
    "        x_max = x_sortR[:2]\n",
    "        x_min = x_sort[:2]\n",
    "\n",
    "        if x_sort[1][0] == x_sort[2][0]:\n",
    "            n_1 = x_sort[0]\n",
    "            n_2  = [i for i in x_max if i in y_min][0]\n",
    "            n_3  = [i for i in x_min if i in y_max][0]\n",
    "            n_4 = x_sort[3]\n",
    "        elif y_sort[1][1] == y_sort[2][1]:\n",
    "            n_1  = [i for i in x_min if i in y_min][0]\n",
    "            n_2  = y_sort[0]\n",
    "            n_3  = y_sort[3]\n",
    "            n_4  = [i for i in x_max if i in y_max][0]\n",
    "        else:\n",
    "            n_1  = [i for i in x_min if i in y_min][0]\n",
    "            n_2  = [i for i in x_max if i in y_min][0]\n",
    "            n_3  = [i for i in x_min if i in y_max][0]\n",
    "            n_4  = [i for i in x_max if i in y_max][0]\n",
    "\n",
    "        element[i, 0] = int(node[np.where((n_3[0]==node[:,1]) & (n_3[1]==node[:,2])), 0][0][0])\n",
    "        element[i, 1] = int(node[np.where((n_1[0]==node[:,1]) & (n_1[1]==node[:,2])), 0][0][0])\n",
    "        element[i, 2] = int(node[np.where((n_2[0]==node[:,1]) & (n_2[1]==node[:,2])), 0][0][0])\n",
    "        element[i, 3] = int(node[np.where((n_4[0]==node[:,1]) & (n_4[1]==node[:,2])), 0][0][0])\n",
    "    \n",
    "    elif element[i][3] == 0:\n",
    "\n",
    "        aa = np.zeros([nod-1, 2], dtype=np.float64)\n",
    "        n1=element[i,0]-1; aa[0, 0]=node[:, 1][n1]; aa[0, 1]=node[:, 2][n1]\n",
    "        n2=element[i,1]-1; aa[1, 0]=node[:, 1][n2]; aa[1, 1]=node[:, 2][n2]\n",
    "        n3=element[i,2]-1; aa[2, 0]=node[:, 1][n3]; aa[2, 1]=node[:, 2][n3]\n",
    "\n",
    "        aa = [list(i) for i in aa]\n",
    "\n",
    "        x_sort=sorted(aa, key=lambda x:(x[0]), reverse=False); x_min=x_sort[:2]\n",
    "        y_sort=sorted(aa, key=lambda x:(x[1]), reverse=False); y_min=y_sort[:2]\n",
    "        x_sortR=sorted(aa, key=lambda x:(x[0]), reverse=True); x_max=x_sortR[:2]\n",
    "        y_sortR=sorted(aa, key=lambda x:(x[1]), reverse=True); y_max=y_sortR[:2]\n",
    "\n",
    "        y_max = y_sortR[:2]\n",
    "        y_min = y_sort[:2]\n",
    "        x_max = x_sortR[:2]\n",
    "        x_min = x_sort[:2]\n",
    "\n",
    "        if x_sort[0][0] == x_sort[1][0]:\n",
    "            n_1 = x_sort[0]\n",
    "            n_2  = [i for i in x_max if i in y_min][0]\n",
    "            n_3  = [i for i in x_min if i in y_max][0]\n",
    "            n_4 = x_sort[3]\n",
    "        if y_sort[1][1] == y_sort[2][1]:\n",
    "            n_1  = [i for i in x_min if i in y_min][0]\n",
    "            n_2  = y_sort[2]\n",
    "            n_3  = y_sort[1]\n",
    "\n",
    "        else:\n",
    "            n_1  = [i for i in x_min if i in y_min][0]\n",
    "            n_2  = [i for i in x_max if i in y_min][0]\n",
    "            n_3  = [i for i in x_min if i in y_max][0]\n",
    "\n",
    "\n",
    "        element[i, 0] = int(node[np.where((n_3[0]==node[:,1]) & (n_3[1]==node[:,2])), 0][0][0])\n",
    "        element[i, 1] = int(node[np.where((n_1[0]==node[:,1]) & (n_1[1]==node[:,2])), 0][0][0])\n",
    "        element[i, 2] = int(node[np.where((n_2[0]==node[:,1]) & (n_2[1]==node[:,2])), 0][0][0])\n",
    "        element[i, 3] = int(node[np.where((n_4[0]==node[:,1]) & (n_4[1]==node[:,2])), 0][0][0])\n",
    "\n",
    "\n",
    "\n",
    "\n",
    "        \n"
   ]
  },
  {
   "cell_type": "code",
   "execution_count": 175,
   "metadata": {},
   "outputs": [
    {
     "data": {
      "text/plain": [
       "[[61.5, 16.8], [61.527, 17.2], [61.233, 17.2], [61.3, 21.2]]"
      ]
     },
     "execution_count": 175,
     "metadata": {},
     "output_type": "execute_result"
    }
   ],
   "source": [
    "aa"
   ]
  },
  {
   "cell_type": "code",
   "execution_count": 176,
   "metadata": {},
   "outputs": [
    {
     "data": {
      "text/plain": [
       "[[61.233, 17.2], [61.3, 21.2]]"
      ]
     },
     "execution_count": 176,
     "metadata": {},
     "output_type": "execute_result"
    }
   ],
   "source": [
    "x_min"
   ]
  },
  {
   "cell_type": "code",
   "execution_count": 177,
   "metadata": {},
   "outputs": [
    {
     "data": {
      "text/plain": [
       "[[61.5, 16.8], [61.527, 17.2]]"
      ]
     },
     "execution_count": 177,
     "metadata": {},
     "output_type": "execute_result"
    }
   ],
   "source": [
    "y_min"
   ]
  },
  {
   "cell_type": "code",
   "execution_count": 133,
   "metadata": {},
   "outputs": [
    {
     "data": {
      "text/plain": [
       "array([3169, 3170, 3355, 3354,    2])"
      ]
     },
     "execution_count": 133,
     "metadata": {},
     "output_type": "execute_result"
    }
   ],
   "source": [
    "element[i]"
   ]
  },
  {
   "cell_type": "code",
   "execution_count": 142,
   "metadata": {},
   "outputs": [
    {
     "data": {
      "text/plain": [
       "array([[3.3510e+03, 1.0200e+02, 1.5675e+01],\n",
       "       [3.3520e+03, 1.0350e+02, 1.5675e+01],\n",
       "       [3.3530e+03, 1.0500e+02, 1.5675e+01],\n",
       "       [3.3540e+03, 0.0000e+00, 1.5833e+01],\n",
       "       [3.3550e+03, 1.5000e+00, 1.5833e+01],\n",
       "       [3.3560e+03, 3.0000e+00, 1.5833e+01],\n",
       "       [3.3570e+03, 4.5000e+00, 1.5833e+01],\n",
       "       [3.3580e+03, 6.0000e+00, 1.5833e+01],\n",
       "       [3.3590e+03, 7.5000e+00, 1.5833e+01],\n",
       "       [3.3600e+03, 9.0000e+00, 1.5833e+01]])"
      ]
     },
     "execution_count": 142,
     "metadata": {},
     "output_type": "execute_result"
    }
   ],
   "source": [
    "node[3350:3360]"
   ]
  },
  {
   "cell_type": "code",
   "execution_count": 7,
   "metadata": {},
   "outputs": [],
   "source": [
    "element = sorted(element.tolist(), key=lambda x:(x[1]))\n",
    "element = np.array(element)"
   ]
  },
  {
   "cell_type": "code",
   "execution_count": null,
   "metadata": {},
   "outputs": [],
   "source": []
  },
  {
   "cell_type": "code",
   "execution_count": 64,
   "metadata": {},
   "outputs": [
    {
     "name": "stdout",
     "output_type": "stream",
     "text": [
      "* displacement\n",
      "[3313 3314 3457    0    2]\n",
      "[3702 3703 3798    0    2]\n",
      "[3703 3799 3798    0    1]\n",
      "[4702 4703 4705    0    1]\n",
      "[4614 4615 4659    0    2]\n",
      "[4643 4644 4702    0    1]\n",
      "[3800 3801 3896    0    1]\n",
      "[3797 3798 3893    0    2]\n",
      "[3893 3989 3988    0    1]\n",
      "[3798 3894 3893    0    1]\n",
      "[3987 3988 4083    0    2]\n",
      "[3991 3992 4086    0    1]\n",
      "[4275 4276 4370    0    1]\n",
      "[4366 4367 4460    0    2]\n",
      "[4083 4178 4177    0    1]\n"
     ]
    },
    {
     "data": {
      "image/png": "[encoded data removed]",
      "text/plain": [
       "<Figure size 7200x7200 with 1 Axes>"
      ]
     },
     "metadata": {
      "needs_background": "light"
     },
     "output_type": "display_data"
    }
   ],
   "source": [
    "\n",
    "import matplotlib.pyplot as plt\n",
    "xmin = 0\n",
    "xmax = max(node[:, 1])\n",
    "ymin = 0\n",
    "ymax = max(node[:, 2])\n",
    "\n",
    "fig = plt.figure(figsize=(100, 100))\n",
    "ax1=plt.subplot(111)\n",
    "ax1.set_xlim([xmin,xmax])\n",
    "ax1.set_ylim([ymin,ymax])\n",
    "ax1.set_xlabel('x-direction (m)')\n",
    "ax1.set_ylabel('y-direction (m)')\n",
    "ax1.spines['right'].set_visible(False)\n",
    "ax1.spines['top'].set_visible(False)\n",
    "ax1.yaxis.set_ticks_position('left')\n",
    "ax1.xaxis.set_ticks_position('bottom')\n",
    "aspect = (ymax-ymin)/(xmax-xmin)*(ax1.get_xlim()[1] - ax1.get_xlim()[0]) / (ax1.get_ylim()[1] - ax1.get_ylim()[0])\n",
    "ax1.set_aspect(aspect)\n",
    "\n",
    "\n",
    "# displacement\n",
    "print('* displacement')\n",
    "\n",
    "\\\n",
    "for i in range(len(element)):\n",
    "    if element[i][3] != 0:\n",
    "        n1=element[i,0]-1; x1=node[:, 1][n1]; y1=node[:, 2][n1]\n",
    "        n2=element[i,1]-1; x2=node[:, 1][n2]; y2=node[:, 2][n2]\n",
    "        n3=element[i,2]-1; x3=node[:, 1][n3]; y3=node[:, 2][n3]\n",
    "        n4=element[i,3]-1; x4=node[:, 1][n4]; y4=node[:, 2][n4]\n",
    "\n",
    "        if i == 3146:\n",
    "            ax1.plot([x1,x2,x3,x4],[y1,y2,y3,y4],color='r',lw=0.4)\n",
    "            ax1.fill([x1,x2,x3,x4],[y1,y2,y3,y4],facecolor='red',edgecolor='red',lw=0.1)\n",
    "        else:\n",
    "            ax1.plot([x1,x2,x3,x4],[y1,y2,y3,y4],color='k',lw=0.4)\n",
    "            ax1.fill([x1,x2,x3,x4],[y1,y2,y3,y4],facecolor='#777777',edgecolor='#777777',lw=0.1)\n",
    "            \n",
    "\n",
    "    if element[i][3] == 0:\n",
    "        n1=element[i,0]-1; x1=node[:, 1][n1]; y1=node[:, 2][n1]\n",
    "        n2=element[i,1]-1; x2=node[:, 1][n2]; y2=node[:, 2][n2]\n",
    "        n3=element[i,2]-1; x3=node[:, 1][n3]; y3=node[:, 2][n3]\n",
    "        ax1.plot([x1,x2,x3],[y1,y2,y3],color='blue',lw=0.5)\n",
    "        ax1.fill([x1,x2,x3],[y1,y2,y3],facecolor='blue',edgecolor='blue',lw=0.1)\n",
    "        print(element[i])\n",
    "\n",
    "        \n",
    "plt.savefig(\"a.png\")"
   ]
  },
  {
   "cell_type": "code",
   "execution_count": null,
   "metadata": {},
   "outputs": [],
   "source": []
  },
  {
   "cell_type": "code",
   "execution_count": 61,
   "metadata": {},
   "outputs": [],
   "source": [
    "node_n = node\n",
    "element_n = element"
   ]
  },
  {
   "cell_type": "code",
   "execution_count": 10,
   "metadata": {},
   "outputs": [
    {
     "name": "stdin",
     "output_type": "stream",
     "text": [
      "ARE YOU CALCULATE ONLY SEEPAGE?\n",
      " ONLY SEEPAGE FLOW=1  +DEFORMATION ANALYSIS=2  +NO=0 0\n",
      "ARE YOU CONSIDER JOINT ELEMENT?\n",
      " YES=1  NO=0 1\n",
      "ARE YOU CONSIDER EDGE CONDITION?\n",
      " YES=1  NO=0 1\n",
      "ARE YOU CONSIDER BEAM ELEMENT?\n",
      " BEAM ONLY=1  BEAM & JOINT=2  NO=0 2\n",
      "   ARE YOU CONSIDER LOADING?\n",
      " YES(INCREASE LOAD)=1  YES(CONSTANT LOAD )=2  NO=0 1\n",
      "ARE YOU CONSIDER WATER?\n",
      " YES=1  NO=0 0\n"
     ]
    }
   ],
   "source": [
    "\"\"\"\n",
    "    2Dyouso.dat作成\n",
    "\"\"\"\n",
    "\n",
    "q_1 = int(input(\"ARE YOU CALCULATE ONLY SEEPAGE?\\n ONLY SEEPAGE FLOW=1  +DEFORMATION ANALYSIS=2  +NO=0\"))\n",
    "\n",
    "q_2 = int(input(\"ARE YOU CONSIDER JOINT ELEMENT?\\n YES=1  NO=0\"))#5\n",
    "q_3 = int(input(\"ARE YOU CONSIDER EDGE CONDITION?\\n YES=1  NO=0\")) #7\n",
    "q_4 = int(input(\"ARE YOU CONSIDER BEAM ELEMENT?\\n BEAM ONLY=1  BEAM & JOINT=2  NO=0\"))#8\n",
    "q_5 = int(input(\"   ARE YOU CONSIDER LOADING?\\n YES(INCREASE LOAD)=1  YES(CONSTANT LOAD )=2  NO=0\"))#4\n",
    "q_6 = int(input(\"ARE YOU CONSIDER WATER?\\n YES=1  NO=0\"))#6"
   ]
  },
  {
   "cell_type": "code",
   "execution_count": 184,
   "metadata": {},
   "outputs": [],
   "source": [
    "file = open(\"2Dyouso.dat\", \"w\", encoding='CP932')\n",
    "\n",
    "\n",
    "con_1 = [int(node_n[i, 2]) for i in range(npm) if node_n[i,1] == min(node_n[:, 1])]\n",
    "con_2 = [int(node_n[i, 2]) for i in range(npm) if node_n[i,0] == min(node_n[:, 0]) or node_n[i,0] == max(node_n[:, 0])]\n",
    "con_2 = [i for i in con_2 if i not in con_1]\n",
    "\n",
    "con_1 = sorted(con_1)\n",
    "con_2 = sorted(con_2)\n",
    "\n",
    "\n",
    "kousoku = len(con_1) * 2 + len(con_2)\n",
    "jiban = max(element[:, 4])\n",
    "\n",
    "file.write(str(npm).rjust(5) + str(nem).rjust(5) + str(kousoku).rjust(5) +  str(jiban).rjust(5) +  \"0\".rjust(5) +  \"0\".rjust(5)+\"\\n\")\n",
    "\n",
    "\n",
    "file.write(\"    0    0\\n\")\n",
    "file.write(\"    0    0\\n\")\n",
    "file.write(\"    0    0    0    0    0\\n\")\n",
    "file.write(\"    0 1000\\n\")\n",
    "file.write(\"    0    0    0\\n\")\n",
    "file.write(\"E1000\\n\")\n",
    "\n",
    "file.write(\"    3    1    1    {a}    {b}    {c}    {d}    {e}    0    0\\n\".format(a=q_5, b=q_2, c=q_6, d=q_3, e=q_4)) #<---入力の数字によって変更\n",
    "file.write(\"    0    0    0    0    0    0    0    0    0    0\\n\")\n",
    "file.write(\"    0    0    0    0    0    0    0    0    0    0\\n\")\n",
    "file.write(\"    1.0d-4   1.0d-10    1.0d-2    1.0d-6    1.0d10    1.0d-7   0.0d+0    1.0d+0    2\\n\")\n",
    "file.write(\"    2.0d-3 2302.0d-3    0.0d+0    1.4d+0    1.0d-0    1.0d-1\\n\")\n",
    "file.write(\"    1.0d-8         0\\n\")\n",
    "file.write(\"    1  1        9.1000000000        0.0005000000      -86.0000000000       33.7100000000\\n\")\n",
    "file.write(\"    1  2        9.1000000000        0.0005000000      -86.0000000000       33.7100000000\\n\")\n",
    "file.write(\"E   1  3        0.0000000000        0.0000000000        0.0000000000        1.2000000000\\n\")\n",
    "file.write(\"  1  2  2  0  0  0  0  8  0  0  0  1 -2\\n\")\n",
    "file.write(\"E    1    10000.00000        0.49999   0.00000    0.0000    50000.00000   0.00000\\n\")\n",
    "\n",
    "\n",
    "for i in range(len(element_n)):\n",
    "    if i+1 != len(element_n):\n",
    "        file.write(str(i+1).rjust(6) + str(element_n[i][0]).rjust(5) + str(element_n[i][1]).rjust(5) + str(element_n[i][2]).rjust(5) + str(element_n[i][3]).rjust(5) + str(element_n[i][4]).rjust(5) + \"\\n\")\n",
    "    else:\n",
    "        file.write(\"E\" +str(i+1).rjust(5) + str(element_n[i][0]).rjust(5) + str(element_n[i][1]).rjust(5) + str(element_n[i][2]).rjust(5) + str(element_n[i][3]).rjust(5) + str(element_n[i][4]).rjust(5) + \"\\n\")\n",
    "    \n",
    "for i in range(len(node_n)):\n",
    "    if i+1 != len(node_n):\n",
    "        file.write(str(i+1).rjust(6) + f\"{node_n[i, 1]:15.05f}\" + f\"{node_n[i, 2]:15.05f}\" + \"\\n\")\n",
    "    else:\n",
    "        file.write(\"E\" + str(i+1).rjust(5) + f\"{node_n[i, 1]:15.05f}\" + f\"{node_n[i, 2]:15.05f}\" + \"\\n\")\n",
    "\n",
    "con_1 = [int(node_n[i, 3]) for i in range(npm) if node_n[i,1] == min(node_n[:, 1])]\n",
    "con_2 = [int(node_n[i, 3]) for i in range(npm) if node_n[i,0] == min(node_n[:, 0]) or node_n[i,0] == max(node_n[:, 0])]\n",
    "con_2 = [i for i in con_2 if i not in con_1]\n",
    "\n",
    "con_1 = sorted(con_1)\n",
    "con_2 = sorted(con_2)\n",
    "\n",
    "for i in range(len(con_1)):\n",
    "    file.write(str(con_1[i]).rjust(6) + \"    1    1\" + \"\\n\")\n",
    "\n",
    "for i in range(len(con_2)):\n",
    "    if i+1 != len(con_2):\n",
    "        file.write(str(con_2[i]).rjust(6) + \"    1    0\" + \"\\n\")\n",
    "    else:\n",
    "        file.write(\"E\" + str(con_2[i]).rjust(5) + \"    1    0\" + \"\\n\")\n",
    "        \n",
    "        \n",
    "if q_2 == 1:\n",
    "    file.write(dummy_text[\"joint\"])\n",
    "    \n",
    "if q_3 == 1:\n",
    "    file.write(dummy_text[\"edge\"])\n",
    "\n",
    "if q_4 == 1:\n",
    "    file.write(dummy_text[\"beam\"])\n",
    "    \n",
    "if q_4 == 2:\n",
    "    file.write(dummy_text[\"beam\"])\n",
    "    file.write(dummy_text[\"beam_joint\"])\n",
    "file.close()"
   ]
  },
  {
   "cell_type": "code",
   "execution_count": 9,
   "metadata": {},
   "outputs": [],
   "source": [
    "dummy_text = {\"edge\":\n",
    "\"\"\"     1   0.000d0   0.000d0     1.00000d-5\n",
    "E    2   0.000d0   0.000d0    1.00000d+10\n",
    "     1  676  817    1\n",
    "E    2  701  842    1\n",
    "\"\"\",\n",
    "              \"beam\":\n",
    "\"\"\"E    1  1.000d+5  2.000d-1  2.000d+2  1.000d+2  1.000d-1\n",
    "     1 7702 7703    1      \n",
    "E    1 7703 7704    1      \n",
    "  7702        0.00000        0.00000\n",
    "  7703        0.00000        0.00000\n",
    "E 7704        0.00000        0.00000\n",
    "  7702    0    0    0            \n",
    "  7703    0    0    0            \n",
    "E 7704    0    0    0            \n",
    "\"\"\",\n",
    "              \"joint\":\n",
    "\"\"\"E    1  30.00000  30.00000       20.00000   0.00000\n",
    "     1   92   93   64   58    1      0.00000         0.000000000000000E+00         0.000000000000000E+00    0\n",
    "E    2   92   93   64   58    1      0.00000         0.000000000000000E+00         0.000000000000000E+00    0\n",
    "\"\"\",\n",
    "              \"beam_joint\":\n",
    "\"\"\"E    1  30.00000  30.00000       20.00000  17.50000\n",
    "     1 1874 1875 7702 7703    1      0.00000         0.000000000000000E+00         0.000000000000000E+00    1\n",
    "E    2 1874 1875 7703 7704    1      0.00000         0.000000000000000E+00         0.000000000000000E+00    1\n",
    "\"\"\",\n",
    "              \"loading\":\n",
    "\"\"\"     1        0.00000       -1.00000\n",
    "     2        0.00000       -1.00000\n",
    "E    3        0.00000       -1.00000\n",
    "     1    2\n",
    "E    2    3\n",
    "     1        0.00000       -1.00000\n",
    "     2        0.00000       -1.00000\n",
    "E    3        0.00000       -1.00000\n",
    "     1    2\n",
    "E    2    3\n",
    "     1        0.00000       -1.00000\n",
    "     2        0.00000       -1.00000\n",
    "E    3        0.00000       -1.00000\n",
    "\"\"\",\n",
    "              \"water\":\n",
    "\"\"\"                   ---Sis---                     ---Sir--- \n",
    "    1   0.32700   0.00000\n",
    "                    ---Se---                     ---Pres--- \n",
    "\"\"\",\n",
    "              \"seepage\":\n",
    "\"\"\"    1    0    0    0    0    0    0    0    0    0\n",
    "    1.0d-0\n",
    "E   1  3.600d-4    1.2d-4   0.00000   0.34800   0.00000   5.22000   5.67800\n",
    "   774        0.00000    5     0.000\n",
    "   775        0.00000    1     0.000\n",
    "   776        0.00000    1     0.000\n",
    "   777        0.00000    0     0.000\n",
    "E  778        0.00000    0     0.000\n",
    "        0.00000     0\n",
    "\"\"\"\n",
    "             }\n"
   ]
  },
  {
   "cell_type": "code",
   "execution_count": 185,
   "metadata": {},
   "outputs": [
    {
     "ename": "IndexError",
     "evalue": "index 3 is out of bounds for axis 1 with size 3",
     "output_type": "error",
     "traceback": [
      "\u001b[1;31m---------------------------------------------------------------------------\u001b[0m",
      "\u001b[1;31mIndexError\u001b[0m                                Traceback (most recent call last)",
      "\u001b[1;32m<ipython-input-185-920210c6469a>\u001b[0m in \u001b[0;36m<module>\u001b[1;34m\u001b[0m\n\u001b[0;32m     48\u001b[0m         \u001b[0mfile\u001b[0m\u001b[1;33m.\u001b[0m\u001b[0mwrite\u001b[0m\u001b[1;33m(\u001b[0m\u001b[1;34m\"E\"\u001b[0m \u001b[1;33m+\u001b[0m \u001b[0mstr\u001b[0m\u001b[1;33m(\u001b[0m\u001b[0mi\u001b[0m\u001b[1;33m+\u001b[0m\u001b[1;36m1\u001b[0m\u001b[1;33m)\u001b[0m\u001b[1;33m.\u001b[0m\u001b[0mrjust\u001b[0m\u001b[1;33m(\u001b[0m\u001b[1;36m5\u001b[0m\u001b[1;33m)\u001b[0m \u001b[1;33m+\u001b[0m \u001b[1;34mf\"{node_n[i, 1]:15.05f}\"\u001b[0m \u001b[1;33m+\u001b[0m \u001b[1;34mf\"{node_n[i, 2]:15.05f}\"\u001b[0m \u001b[1;33m+\u001b[0m \u001b[1;34m\"\\n\"\u001b[0m\u001b[1;33m)\u001b[0m\u001b[1;33m\u001b[0m\u001b[1;33m\u001b[0m\u001b[0m\n\u001b[0;32m     49\u001b[0m \u001b[1;33m\u001b[0m\u001b[0m\n\u001b[1;32m---> 50\u001b[1;33m \u001b[0mcon_1\u001b[0m \u001b[1;33m=\u001b[0m \u001b[1;33m[\u001b[0m\u001b[0mint\u001b[0m\u001b[1;33m(\u001b[0m\u001b[0mnode\u001b[0m\u001b[1;33m[\u001b[0m\u001b[0mi\u001b[0m\u001b[1;33m,\u001b[0m \u001b[1;36m3\u001b[0m\u001b[1;33m]\u001b[0m\u001b[1;33m)\u001b[0m \u001b[1;32mfor\u001b[0m \u001b[0mi\u001b[0m \u001b[1;32min\u001b[0m \u001b[0mrange\u001b[0m\u001b[1;33m(\u001b[0m\u001b[0mnpm\u001b[0m\u001b[1;33m)\u001b[0m \u001b[1;32mif\u001b[0m \u001b[0mnode\u001b[0m\u001b[1;33m[\u001b[0m\u001b[0mi\u001b[0m\u001b[1;33m,\u001b[0m\u001b[1;36m1\u001b[0m\u001b[1;33m]\u001b[0m \u001b[1;33m==\u001b[0m \u001b[0mmin\u001b[0m\u001b[1;33m(\u001b[0m\u001b[0mnode\u001b[0m\u001b[1;33m[\u001b[0m\u001b[1;33m:\u001b[0m\u001b[1;33m,\u001b[0m \u001b[1;36m1\u001b[0m\u001b[1;33m]\u001b[0m\u001b[1;33m)\u001b[0m\u001b[1;33m]\u001b[0m\u001b[1;33m\u001b[0m\u001b[1;33m\u001b[0m\u001b[0m\n\u001b[0m\u001b[0;32m     51\u001b[0m \u001b[0mcon_2\u001b[0m \u001b[1;33m=\u001b[0m \u001b[1;33m[\u001b[0m\u001b[0mint\u001b[0m\u001b[1;33m(\u001b[0m\u001b[0mnode\u001b[0m\u001b[1;33m[\u001b[0m\u001b[0mi\u001b[0m\u001b[1;33m,\u001b[0m \u001b[1;36m3\u001b[0m\u001b[1;33m]\u001b[0m\u001b[1;33m)\u001b[0m \u001b[1;32mfor\u001b[0m \u001b[0mi\u001b[0m \u001b[1;32min\u001b[0m \u001b[0mrange\u001b[0m\u001b[1;33m(\u001b[0m\u001b[0mnpm\u001b[0m\u001b[1;33m)\u001b[0m \u001b[1;32mif\u001b[0m \u001b[0mnode\u001b[0m\u001b[1;33m[\u001b[0m\u001b[0mi\u001b[0m\u001b[1;33m,\u001b[0m\u001b[1;36m0\u001b[0m\u001b[1;33m]\u001b[0m \u001b[1;33m==\u001b[0m \u001b[0mmin\u001b[0m\u001b[1;33m(\u001b[0m\u001b[0mnode\u001b[0m\u001b[1;33m[\u001b[0m\u001b[1;33m:\u001b[0m\u001b[1;33m,\u001b[0m \u001b[1;36m0\u001b[0m\u001b[1;33m]\u001b[0m\u001b[1;33m)\u001b[0m \u001b[1;32mor\u001b[0m \u001b[0mnode\u001b[0m\u001b[1;33m[\u001b[0m\u001b[0mi\u001b[0m\u001b[1;33m,\u001b[0m\u001b[1;36m0\u001b[0m\u001b[1;33m]\u001b[0m \u001b[1;33m==\u001b[0m \u001b[0mmax\u001b[0m\u001b[1;33m(\u001b[0m\u001b[0mnode\u001b[0m\u001b[1;33m[\u001b[0m\u001b[1;33m:\u001b[0m\u001b[1;33m,\u001b[0m \u001b[1;36m0\u001b[0m\u001b[1;33m]\u001b[0m\u001b[1;33m)\u001b[0m\u001b[1;33m]\u001b[0m\u001b[1;33m\u001b[0m\u001b[1;33m\u001b[0m\u001b[0m\n\u001b[0;32m     52\u001b[0m \u001b[0mcon_2\u001b[0m \u001b[1;33m=\u001b[0m \u001b[1;33m[\u001b[0m\u001b[0mi\u001b[0m \u001b[1;32mfor\u001b[0m \u001b[0mi\u001b[0m \u001b[1;32min\u001b[0m \u001b[0mcon_2\u001b[0m \u001b[1;32mif\u001b[0m \u001b[0mi\u001b[0m \u001b[1;32mnot\u001b[0m \u001b[1;32min\u001b[0m \u001b[0mcon_1\u001b[0m\u001b[1;33m]\u001b[0m\u001b[1;33m\u001b[0m\u001b[1;33m\u001b[0m\u001b[0m\n",
      "\u001b[1;32m<ipython-input-185-920210c6469a>\u001b[0m in \u001b[0;36m<listcomp>\u001b[1;34m(.0)\u001b[0m\n\u001b[0;32m     48\u001b[0m         \u001b[0mfile\u001b[0m\u001b[1;33m.\u001b[0m\u001b[0mwrite\u001b[0m\u001b[1;33m(\u001b[0m\u001b[1;34m\"E\"\u001b[0m \u001b[1;33m+\u001b[0m \u001b[0mstr\u001b[0m\u001b[1;33m(\u001b[0m\u001b[0mi\u001b[0m\u001b[1;33m+\u001b[0m\u001b[1;36m1\u001b[0m\u001b[1;33m)\u001b[0m\u001b[1;33m.\u001b[0m\u001b[0mrjust\u001b[0m\u001b[1;33m(\u001b[0m\u001b[1;36m5\u001b[0m\u001b[1;33m)\u001b[0m \u001b[1;33m+\u001b[0m \u001b[1;34mf\"{node_n[i, 1]:15.05f}\"\u001b[0m \u001b[1;33m+\u001b[0m \u001b[1;34mf\"{node_n[i, 2]:15.05f}\"\u001b[0m \u001b[1;33m+\u001b[0m \u001b[1;34m\"\\n\"\u001b[0m\u001b[1;33m)\u001b[0m\u001b[1;33m\u001b[0m\u001b[1;33m\u001b[0m\u001b[0m\n\u001b[0;32m     49\u001b[0m \u001b[1;33m\u001b[0m\u001b[0m\n\u001b[1;32m---> 50\u001b[1;33m \u001b[0mcon_1\u001b[0m \u001b[1;33m=\u001b[0m \u001b[1;33m[\u001b[0m\u001b[0mint\u001b[0m\u001b[1;33m(\u001b[0m\u001b[0mnode\u001b[0m\u001b[1;33m[\u001b[0m\u001b[0mi\u001b[0m\u001b[1;33m,\u001b[0m \u001b[1;36m3\u001b[0m\u001b[1;33m]\u001b[0m\u001b[1;33m)\u001b[0m \u001b[1;32mfor\u001b[0m \u001b[0mi\u001b[0m \u001b[1;32min\u001b[0m \u001b[0mrange\u001b[0m\u001b[1;33m(\u001b[0m\u001b[0mnpm\u001b[0m\u001b[1;33m)\u001b[0m \u001b[1;32mif\u001b[0m \u001b[0mnode\u001b[0m\u001b[1;33m[\u001b[0m\u001b[0mi\u001b[0m\u001b[1;33m,\u001b[0m\u001b[1;36m1\u001b[0m\u001b[1;33m]\u001b[0m \u001b[1;33m==\u001b[0m \u001b[0mmin\u001b[0m\u001b[1;33m(\u001b[0m\u001b[0mnode\u001b[0m\u001b[1;33m[\u001b[0m\u001b[1;33m:\u001b[0m\u001b[1;33m,\u001b[0m \u001b[1;36m1\u001b[0m\u001b[1;33m]\u001b[0m\u001b[1;33m)\u001b[0m\u001b[1;33m]\u001b[0m\u001b[1;33m\u001b[0m\u001b[1;33m\u001b[0m\u001b[0m\n\u001b[0m\u001b[0;32m     51\u001b[0m \u001b[0mcon_2\u001b[0m \u001b[1;33m=\u001b[0m \u001b[1;33m[\u001b[0m\u001b[0mint\u001b[0m\u001b[1;33m(\u001b[0m\u001b[0mnode\u001b[0m\u001b[1;33m[\u001b[0m\u001b[0mi\u001b[0m\u001b[1;33m,\u001b[0m \u001b[1;36m3\u001b[0m\u001b[1;33m]\u001b[0m\u001b[1;33m)\u001b[0m \u001b[1;32mfor\u001b[0m \u001b[0mi\u001b[0m \u001b[1;32min\u001b[0m \u001b[0mrange\u001b[0m\u001b[1;33m(\u001b[0m\u001b[0mnpm\u001b[0m\u001b[1;33m)\u001b[0m \u001b[1;32mif\u001b[0m \u001b[0mnode\u001b[0m\u001b[1;33m[\u001b[0m\u001b[0mi\u001b[0m\u001b[1;33m,\u001b[0m\u001b[1;36m0\u001b[0m\u001b[1;33m]\u001b[0m \u001b[1;33m==\u001b[0m \u001b[0mmin\u001b[0m\u001b[1;33m(\u001b[0m\u001b[0mnode\u001b[0m\u001b[1;33m[\u001b[0m\u001b[1;33m:\u001b[0m\u001b[1;33m,\u001b[0m \u001b[1;36m0\u001b[0m\u001b[1;33m]\u001b[0m\u001b[1;33m)\u001b[0m \u001b[1;32mor\u001b[0m \u001b[0mnode\u001b[0m\u001b[1;33m[\u001b[0m\u001b[0mi\u001b[0m\u001b[1;33m,\u001b[0m\u001b[1;36m0\u001b[0m\u001b[1;33m]\u001b[0m \u001b[1;33m==\u001b[0m \u001b[0mmax\u001b[0m\u001b[1;33m(\u001b[0m\u001b[0mnode\u001b[0m\u001b[1;33m[\u001b[0m\u001b[1;33m:\u001b[0m\u001b[1;33m,\u001b[0m \u001b[1;36m0\u001b[0m\u001b[1;33m]\u001b[0m\u001b[1;33m)\u001b[0m\u001b[1;33m]\u001b[0m\u001b[1;33m\u001b[0m\u001b[1;33m\u001b[0m\u001b[0m\n\u001b[0;32m     52\u001b[0m \u001b[0mcon_2\u001b[0m \u001b[1;33m=\u001b[0m \u001b[1;33m[\u001b[0m\u001b[0mi\u001b[0m \u001b[1;32mfor\u001b[0m \u001b[0mi\u001b[0m \u001b[1;32min\u001b[0m \u001b[0mcon_2\u001b[0m \u001b[1;32mif\u001b[0m \u001b[0mi\u001b[0m \u001b[1;32mnot\u001b[0m \u001b[1;32min\u001b[0m \u001b[0mcon_1\u001b[0m\u001b[1;33m]\u001b[0m\u001b[1;33m\u001b[0m\u001b[1;33m\u001b[0m\u001b[0m\n",
      "\u001b[1;31mIndexError\u001b[0m: index 3 is out of bounds for axis 1 with size 3"
     ]
    }
   ],
   "source": [
    "file = open(\"2Dyouso.dat\", \"w\", encoding='CP932')\n",
    "\n",
    "\n",
    "con_1 = [int(node_n[i, 2]) for i in range(npm) if node_n[i,1] == min(node_n[:, 1])]\n",
    "con_2 = [int(node_n[i, 2]) for i in range(npm) if node_n[i,0] == min(node_n[:, 0]) or node_n[i,0] == max(node_n[:, 0])]\n",
    "con_2 = [i for i in con_2 if i not in con_1]\n",
    "\n",
    "con_1 = sorted(con_1)\n",
    "con_2 = sorted(con_2)\n",
    "\n",
    "\n",
    "kousoku = len(con_1) * 2 + len(con_2)\n",
    "jiban = max(element[:, 4])\n",
    "\n",
    "file.write(str(npm).rjust(5) + str(nem).rjust(5) + str(kousoku).rjust(5) +  str(jiban).rjust(5) +  \"0\".rjust(5) +  \"0\".rjust(5)+\"\\n\")\n",
    "\n",
    "\n",
    "file.write(\"    0    0\\n\")\n",
    "file.write(\"    0    0\\n\")\n",
    "file.write(\"    0    0    0    0    0\\n\")\n",
    "file.write(\"    0 1000\\n\")\n",
    "file.write(\"    0    0    0\\n\")\n",
    "file.write(\"E1000\\n\")\n",
    "\n",
    "file.write(\"    3    1    1    {a}    {b}    {c}    {d}    {e}    0    0\\n\".format(a=q_5, b=q_2, c=q_6, d=q_3, e=q_4)) #<---入力の数字によって変更\n",
    "file.write(\"    0    0    0    0    0    0    0    0    0    0\\n\")\n",
    "file.write(\"    0    0    0    0    0    0    0    0    0    0\\n\")\n",
    "file.write(\"    1.0d-4   1.0d-10    1.0d-2    1.0d-6    1.0d10    1.0d-7   0.0d+0    1.0d+0    2\\n\")\n",
    "file.write(\"    2.0d-3 2302.0d-3    0.0d+0    1.4d+0    1.0d-0    1.0d-1\\n\")\n",
    "file.write(\"    1.0d-8         0\\n\")\n",
    "file.write(\"    1  1        9.1000000000        0.0005000000      -86.0000000000       33.7100000000\\n\")\n",
    "file.write(\"    1  2        9.1000000000        0.0005000000      -86.0000000000       33.7100000000\\n\")\n",
    "file.write(\"E   1  3        0.0000000000        0.0000000000        0.0000000000        1.2000000000\\n\")\n",
    "file.write(\"  1  2  2  0  0  0  0  8  0  0  0  1 -2\\n\")\n",
    "file.write(\"E    1    10000.00000        0.49999   0.00000    0.0000    50000.00000   0.00000\\n\")\n",
    "\n",
    "\n",
    "for i in range(len(element_n)):\n",
    "    if i+1 != len(element_n):\n",
    "        file.write(str(i+1).rjust(6) + str(element_n[i][0]).rjust(5) + str(element_n[i][1]).rjust(5) + str(element_n[i][2]).rjust(5) + str(element_n[i][3]).rjust(5) + str(element_n[i][4]).rjust(5) + \"\\n\")\n",
    "    else:\n",
    "        file.write(\"E\" +str(i+1).rjust(5) + str(element_n[i][0]).rjust(5) + str(element_n[i][1]).rjust(5) + str(element_n[i][2]).rjust(5) + str(element_n[i][3]).rjust(5) + str(element_n[i][4]).rjust(5) + \"\\n\")\n",
    "    \n",
    "for i in range(len(node_n)):\n",
    "    if i+1 != len(node_n):\n",
    "        file.write(str(i+1).rjust(6) + f\"{node_n[i, 1]:15.05f}\" + f\"{node_n[i, 2]:15.05f}\" + \"\\n\")\n",
    "    else:\n",
    "        file.write(\"E\" + str(i+1).rjust(5) + f\"{node_n[i, 1]:15.05f}\" + f\"{node_n[i, 2]:15.05f}\" + \"\\n\")\n",
    "\n",
    "con_1 = [int(node[i, 3]) for i in range(npm) if node[i,1] == min(node[:, 1])]\n",
    "con_2 = [int(node[i, 3]) for i in range(npm) if node[i,0] == min(node[:, 0]) or node[i,0] == max(node[:, 0])]\n",
    "con_2 = [i for i in con_2 if i not in con_1]\n",
    "\n",
    "con_1 = sorted(con_1)\n",
    "con_2 = sorted(con_2)\n",
    "\n",
    "for i in range(len(con_1)):\n",
    "    file.write(str(con_1[i]).rjust(6) + \"    1    1\" + \"\\n\")\n",
    "\n",
    "for i in range(len(con_2)):\n",
    "    if i+1 != len(con_2):\n",
    "        file.write(str(con_2[i]).rjust(6) + \"    1    0\" + \"\\n\")\n",
    "    else:\n",
    "        file.write(\"E\" + str(con_2[i]).rjust(5) + \"    1    0\" + \"\\n\")\n",
    "        \n",
    "        \n",
    "if q_2 == 1:\n",
    "    file.write(dummy_text[\"joint\"])\n",
    "    \n",
    "if q_3 == 1:\n",
    "    file.write(dummy_text[\"edge\"])\n",
    "\n",
    "if q_4 == 1:\n",
    "    file.write(dummy_text[\"beam\"])\n",
    "    \n",
    "if q_4 == 2:\n",
    "    file.write(dummy_text[\"beam\"])\n",
    "    file.write(dummy_text[\"beam_joint\"])\n",
    "file.close()"
   ]
  },
  {
   "cell_type": "code",
   "execution_count": 193,
   "metadata": {},
   "outputs": [],
   "source": [
    "con_1 = [int(node[i, 2]) for i in range(npm) if node[i,1] == min(node[:, 1])]\n",
    "con_2 = [int(node[i, 2]) for i in range(npm) if node[i,0] == min(node[:, 0]) or node[i,0] == max(node[:, 0])]\n",
    "con_2 = [i for i in con_2 if i not in con_1]\n"
   ]
  },
  {
   "cell_type": "code",
   "execution_count": 194,
   "metadata": {},
   "outputs": [
    {
     "data": {
      "text/plain": [
       "[21]"
      ]
     },
     "execution_count": 194,
     "metadata": {},
     "output_type": "execute_result"
    }
   ],
   "source": [
    "con_2"
   ]
  },
  {
   "cell_type": "code",
   "execution_count": 195,
   "metadata": {},
   "outputs": [
    {
     "name": "stdout",
     "output_type": "stream",
     "text": [
      "negative and even\n"
     ]
    }
   ],
   "source": [
    "a = -2\n",
    "result = 'negative and even' if a < 0 and a % 2 == 0 else 'positive or odd'\n",
    "print(result)"
   ]
  },
  {
   "cell_type": "code",
   "execution_count": 196,
   "metadata": {},
   "outputs": [
    {
     "name": "stdout",
     "output_type": "stream",
     "text": [
      "Falseです。\n"
     ]
    }
   ],
   "source": [
    "\n",
    "x = 1\n",
    "print(\"Trueです。\") if x == 3 else print(\"Falseです。\")"
   ]
  },
  {
   "cell_type": "code",
   "execution_count": null,
   "metadata": {},
   "outputs": [],
   "source": []
  },
  {
   "cell_type": "code",
   "execution_count": 202,
   "metadata": {},
   "outputs": [],
   "source": [
    "from PIL import Image\n",
    "import glob\n",
    "\n",
    "files = sorted(glob.glob('*.png'))  \n",
    "images = list(map(lambda file : Image.open(file) , files))\n",
    "images[0].save('image.gif' , save_all = True , append_images = images[1:] , duration = 1000000 , loop = 0)"
   ]
  },
  {
   "cell_type": "code",
   "execution_count": 200,
   "metadata": {},
   "outputs": [
    {
     "data": {
      "text/plain": [
       "['a.png', 'aa.png', 'aaa.png']"
      ]
     },
     "execution_count": 200,
     "metadata": {},
     "output_type": "execute_result"
    }
   ],
   "source": [
    "files"
   ]
  },
  {
   "cell_type": "code",
   "execution_count": null,
   "metadata": {},
   "outputs": [],
   "source": []
  }
 ],
 "metadata": {
  "kernelspec": {
   "display_name": "Python 3",
   "language": "python",
   "name": "python3"
  },
  "language_info": {
   "codemirror_mode": {
    "name": "ipython",
    "version": 3
   },
   "file_extension": ".py",
   "mimetype": "text/x-python",
   "name": "python",
   "nbconvert_exporter": "python",
   "pygments_lexer": "ipython3",
   "version": "3.8.6"
  }
 },
 "nbformat": 4,
 "nbformat_minor": 4
}
