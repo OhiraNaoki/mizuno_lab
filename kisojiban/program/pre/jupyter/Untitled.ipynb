{
 "cells": [
  {
   "cell_type": "code",
   "execution_count": 1,
   "metadata": {},
   "outputs": [],
   "source": [
    "import sys\n",
    "import numpy as np"
   ]
  },
  {
   "cell_type": "code",
   "execution_count": 673,
   "metadata": {},
   "outputs": [
    {
     "name": "stdout",
     "output_type": "stream",
     "text": [
      "4706 4535\n"
     ]
    }
   ],
   "source": [
    "def get_index(l, x):\n",
    "    idx = [i for i, j in enumerate(l) if x in j]\n",
    "    if len(idx) == 1:\n",
    "        return idx[0]\n",
    "    elif len(idx) == 0:\n",
    "        print(\"ファイル内に［{}］を確認できませんでした\".format(x))\n",
    "        sys.exit()\n",
    "    else:\n",
    "        print(\"ファイルの中身が正しくありません。［{}］を確認してください。\".format(x))\n",
    "        sys.exit()\n",
    "\n",
    "    \n",
    "\n",
    "\n",
    "\n",
    "with open(\"sample2.MSH\", mode=\"r\") as file:\n",
    "    lines = file.read().splitlines()\n",
    "\n",
    "\n",
    "node_row = get_index(lines, \"NODE\")\n",
    "element_row = get_index(lines, \"ELEMENT\")\n",
    "\n",
    "npm = element_row - node_row - 1\n",
    "\n",
    "nem = get_index(lines, \"LINE\") - element_row - 1\n",
    "\n",
    "\n",
    "print(npm, nem)"
   ]
  },
  {
   "cell_type": "code",
   "execution_count": 661,
   "metadata": {},
   "outputs": [
    {
     "data": {
      "text/plain": [
       "2"
      ]
     },
     "execution_count": 661,
     "metadata": {},
     "output_type": "execute_result"
    }
   ],
   "source": [
    "node_row"
   ]
  },
  {
   "cell_type": "code",
   "execution_count": 662,
   "metadata": {},
   "outputs": [],
   "source": [
    "d = \"\\n\".join(lines)\n",
    "with open(\"sample.txt\", mode=\"a\") as file:\n",
    "    file.write(d)"
   ]
  },
  {
   "cell_type": "code",
   "execution_count": 663,
   "metadata": {},
   "outputs": [
    {
     "data": {
      "text/plain": [
       "'\\n    リナンバのアルゴリズム\\n'"
      ]
     },
     "execution_count": 663,
     "metadata": {},
     "output_type": "execute_result"
    }
   ],
   "source": [
    "\"\"\"\n",
    "    リナンバのアルゴリズム\n",
    "\"\"\""
   ]
  },
  {
   "cell_type": "code",
   "execution_count": 676,
   "metadata": {},
   "outputs": [],
   "source": [
    "\"\"\"\n",
    "    座標取得\n",
    "    0: 接点番号\n",
    "    1: x座標値\n",
    "    2: y座標値\n",
    "    \n",
    "\"\"\"\n",
    "nod = 4\n",
    "element = np.zeros([nem, nod+1], dtype=np.int64)\n",
    "x = np.zeros(npm, dtype=np.float64)\n",
    "y = np.zeros(npm, dtype=np.float64)\n",
    "node = np.zeros([npm, 4], dtype=np.float64)\n",
    "\n",
    "for i, n in enumerate(range(node_row+1, node_row+npm+1, 1)):\n",
    "    node[i, 0] = int(lines[n].split()[0])\n",
    "    node[i, 1] = float(lines[n].split()[-2])\n",
    "    node[i, 2] = float(lines[n].split()[-1])\n",
    "\n",
    "node[:, 1] = np.round(node[:, 1] + np.abs(min(node[:, 1])), 4)\n",
    "node[:, 2] = np.round(node[:, 2] + np.abs(min(node[:, 2])), 4)\n",
    "node = np.array(node)\n",
    "node = sorted(node, key=lambda x:(x[1]))\n",
    "node = sorted(node, key=lambda x:(x[2]))\n",
    "node = np.array(node)\n",
    "for i in range(npm):\n",
    "    node[i, 3] = i + 1\n",
    "\n",
    "    \n",
    "    \n",
    "for i, n in enumerate(range(element_row+1, element_row+nem+1, 1)):\n",
    "    sep = lines[n].split()\n",
    "    element[i, 0] = int(sep[1]) # node_1\n",
    "    element[i, 1] = int(sep[2]) # node_2\n",
    "    element[i, 2] = int(sep[3]) # node_3\n",
    "    if len(sep) != 5:\n",
    "        element[i, 3] = int(sep[4]) # node_4\n",
    "    elif len(sep) == 5:\n",
    "        element[i, 3] = 0 # node_4\n",
    "    element[i, 4] = int(sep[-1]) # section number\n",
    "    \n",
    "\n",
    "\n",
    "for i in range(len(element)):\n",
    "    element[i, 0] = int(node[np.where(element[i, 0]==node[:,0]), 3][0][0])\n",
    "    element[i, 1] = int(node[np.where(element[i, 1]==node[:,0]), 3][0][0])\n",
    "    element[i, 2] = int(node[np.where(element[i, 2]==node[:,0]), 3][0][0])\n",
    "    if element[i, 3] == 0:\n",
    "        continue\n",
    "    element[i, 3] = int(node[np.where(element[i, 3]==node[:,0]), 3][0][0]) \n",
    "\n"
   ]
  },
  {
   "cell_type": "code",
   "execution_count": 653,
   "metadata": {},
   "outputs": [
    {
     "data": {
      "text/plain": [
       "4535"
      ]
     },
     "execution_count": 653,
     "metadata": {},
     "output_type": "execute_result"
    }
   ],
   "source": [
    "i"
   ]
  },
  {
   "cell_type": "code",
   "execution_count": 677,
   "metadata": {},
   "outputs": [
    {
     "data": {
      "text/plain": [
       "array([[ 289,  290,  434,  433,    6],\n",
       "       [ 145,  146,  290,  289,    6],\n",
       "       [   1,    2,  146,  145,    6],\n",
       "       ...,\n",
       "       [4271, 4272, 4367, 4366,    2],\n",
       "       [4272, 4273, 4368, 4367,    1],\n",
       "       [4177, 4178, 4273, 4272,    1]], dtype=int64)"
      ]
     },
     "execution_count": 677,
     "metadata": {},
     "output_type": "execute_result"
    }
   ],
   "source": [
    "element"
   ]
  },
  {
   "cell_type": "code",
   "execution_count": 648,
   "metadata": {},
   "outputs": [],
   "source": [
    "a = node\n",
    "a[:, 0] = 0\n",
    "a[:, 3] = 0"
   ]
  },
  {
   "cell_type": "code",
   "execution_count": 649,
   "metadata": {},
   "outputs": [
    {
     "data": {
      "text/plain": [
       "4706"
      ]
     },
     "execution_count": 649,
     "metadata": {},
     "output_type": "execute_result"
    }
   ],
   "source": [
    "aa = [\",\".join(str(i)) for i in a]\n",
    "len(set(aa))"
   ]
  },
  {
   "cell_type": "code",
   "execution_count": 650,
   "metadata": {},
   "outputs": [
    {
     "name": "stdout",
     "output_type": "stream",
     "text": [
      "4706\n"
     ]
    }
   ],
   "source": [
    "\n",
    "print(len(a))"
   ]
  },
  {
   "cell_type": "code",
   "execution_count": 666,
   "metadata": {},
   "outputs": [
    {
     "name": "stdout",
     "output_type": "stream",
     "text": [
      "[3313 3314 3457    0    2]\n",
      "[3702 3703 3798    0    2]\n",
      "[3703 3799 3798    0    1]\n",
      "[4702 4703 4705    0    1]\n",
      "[4614 4615 4659    0    2]\n",
      "[4643 4644 4702    0    1]\n",
      "[3800 3801 3896    0    1]\n",
      "[3797 3798 3893    0    2]\n",
      "[3893 3989 3988    0    1]\n",
      "[3798 3894 3893    0    1]\n",
      "[3987 3988 4083    0    2]\n",
      "[3991 3992 4086    0    1]\n",
      "[4275 4276 4370    0    1]\n",
      "[4366 4367 4460    0    2]\n",
      "[4083 4178 4177    0    1]\n"
     ]
    }
   ],
   "source": [
    "for i in range(len(element)):\n",
    "    if element[i][3] != 0:\n",
    "        aa = np.zeros([4, 2], dtype=np.float64)\n",
    "        n1=element[i,0]-1; aa[0, 0]=node[:, 1][n1]; aa[0, 1]=node[:, 2][n1]\n",
    "        n2=element[i,1]-1; aa[1, 0]=node[:, 1][n2]; aa[1, 1]=node[:, 2][n2]\n",
    "        n3=element[i,2]-1; aa[2, 0]=node[:, 1][n3]; aa[2, 1]=node[:, 2][n3]\n",
    "        n4=element[i,3]-1; aa[3, 0]=node[:, 1][n4]; aa[3, 1]=node[:, 2][n4]\n",
    "        #     print(aa)\n",
    "        aa = np.array(aa)\n",
    "        aa = sorted(aa, key=lambda x:(x[0]))\n",
    "        aa = sorted(aa, key=lambda x:(x[1]))\n",
    "\n",
    "        element[i, 0] = int(node[np.where((aa[2][0]==node[:,1]) & (aa[2][1]==node[:,2])), 3][0][0])\n",
    "        element[i, 1] = int(node[np.where((aa[0][0]==node[:,1]) & (aa[0][1]==node[:,2])), 3][0][0])\n",
    "        element[i, 2] = int(node[np.where((aa[1][0]==node[:,1]) & (aa[1][1]==node[:,2])), 3][0][0])\n",
    "        element[i, 3] = int(node[np.where((aa[3][0]==node[:,1]) & (aa[3][1]==node[:,2])), 3][0][0])\n",
    "\n",
    "    if element[i][3] == 0:\n",
    "        print(element[i])\n",
    "element = sorted(element.tolist(), key=lambda x:(x[1]))\n",
    "element = np.array(element)"
   ]
  },
  {
   "cell_type": "code",
   "execution_count": 598,
   "metadata": {},
   "outputs": [
    {
     "data": {
      "text/plain": [
       "array([[3803, 3703, 3705, 3804,    1],\n",
       "       [3801, 3703, 3803,    0,    1],\n",
       "       [3801, 3703, 3703, 3801,    1],\n",
       "       [3705, 3703, 3703, 3705,    1],\n",
       "       [3804, 3705, 3707, 3805,    1]])"
      ]
     },
     "execution_count": 598,
     "metadata": {},
     "output_type": "execute_result"
    }
   ],
   "source": [
    "element[3630:3635]"
   ]
  },
  {
   "cell_type": "code",
   "execution_count": 685,
   "metadata": {},
   "outputs": [],
   "source": [
    "\"\"\"\n",
    "    1要素を構成する接点の並びを確認および修正するプログラム\n",
    "\"\"\"\n",
    "# node_n = np.copy(node)\n",
    "for i in range(len(element)):\n",
    "    if element[i][3] != 0:\n",
    "#         print(element[i])\n",
    "        aa = np.zeros([4, 2], dtype=np.float64)\n",
    "        n1=element[i,0]-1; aa[0, 0]=node[:, 1][n1]; aa[0, 1]=node[:, 2][n1]\n",
    "        n2=element[i,1]-1; aa[1, 0]=node[:, 1][n2]; aa[1, 1]=node[:, 2][n2]\n",
    "        n3=element[i,2]-1; aa[2, 0]=node[:, 1][n3]; aa[2, 1]=node[:, 2][n3]\n",
    "        n4=element[i,3]-1; aa[3, 0]=node[:, 1][n4]; aa[3, 1]=node[:, 2][n4]\n",
    "        \n",
    "        \n",
    "        aa = np.array(aa)\n",
    "        aa = [list(i) for i in aa]\n",
    "\n",
    "        y_max = sorted(aa, key=lambda x:(x[1]), reverse=True)[:2]\n",
    "        y_min = sorted(aa, key=lambda x:(x[1]), reverse=False)[:2]\n",
    "        x_max = sorted(aa, key=lambda x:(x[0]), reverse=True)[:2]\n",
    "        x_min = sorted(aa, key=lambda x:(x[0]), reverse=False)[:2]\n",
    "#         print(element[i])\n",
    "#         print(aa)\n",
    "#         print(y_max, y_min, x_max, x_min)\n",
    "#         print(\"----\")\n",
    "        n_1  = [i for i in x_min if i in y_min][0]\n",
    "        n_2  = [i for i in x_max if i in y_min][0]\n",
    "        n_3  = [i for i in x_min if i in y_max][0]\n",
    "        n_4  = [i for i in x_max if i in y_max][0]\n",
    "\n",
    "\n",
    "\n",
    "#         element[i, 0] = int(node[np.where((aa[2][0]==node[:,1]) & (aa[2][1]==node[:,2])), 3][0][0])\n",
    "#         element[i, 1] = int(node[np.where((aa[0][0]==node[:,1]) & (aa[0][1]==node[:,2])), 3][0][0])\n",
    "#         element[i, 2] = int(node[np.where((aa[1][0]==node[:,1]) & (aa[1][1]==node[:,2])), 3][0][0])\n",
    "#         element[i, 3] = int(node[np.where((aa[3][0]==node[:,1]) & (aa[3][1]==node[:,2])), 3][0][0])\n",
    "        element[i, 0] = int(node[np.where((n_3[0]==node[:,1]) & (n_3[1]==node[:,2])), 3][0][0])\n",
    "        element[i, 1] = int(node[np.where((n_1[0]==node[:,1]) & (n_1[1]==node[:,2])), 3][0][0])\n",
    "        element[i, 2] = int(node[np.where((n_2[0]==node[:,1]) & (n_2[1]==node[:,2])), 3][0][0])\n",
    "        element[i, 3] = int(node[np.where((n_4[0]==node[:,1]) & (n_4[1]==node[:,2])), 3][0][0])\n",
    "\n",
    "\n",
    "\n",
    "\n",
    "\n",
    "    if element[i][3] == 0:\n",
    "\n",
    "        n1=element[i,0]-1; x1=node[:, 1][n1]; y1=node[:, 2][n1]\n",
    "        n2=element[i,1]-1; x2=node[:, 1][n2]; y2=node[:, 2][n2]\n",
    "        n3=element[i,2]-1; x3=node[:, 1][n3]; y3=node[:, 2][n3]\n",
    "\n",
    "        \n"
   ]
  },
  {
   "cell_type": "code",
   "execution_count": 606,
   "metadata": {},
   "outputs": [
    {
     "name": "stdout",
     "output_type": "stream",
     "text": [
      "[4471 4377 4376 4470    1]\n",
      "[[60.0, 19.4], [60.182, 19.0], [60.182, 19.0], [60.0, 19.4]]\n",
      "[[60.0, 19.4], [60.0, 19.4]] [[60.182, 19.0], [60.182, 19.0]] [[60.182, 19.0], [60.182, 19.0]] [[60.0, 19.4], [60.0, 19.4]]\n",
      "----\n"
     ]
    }
   ],
   "source": [
    "print(element[i])\n",
    "print(aa)\n",
    "print(y_max, y_min, x_max, x_min)\n",
    "print(\"----\")"
   ]
  },
  {
   "cell_type": "code",
   "execution_count": 686,
   "metadata": {},
   "outputs": [
    {
     "data": {
      "text/plain": [
       "array([[ 145,    1,    2,  146,    6],\n",
       "       [ 146,    2,    3,  147,    6],\n",
       "       [ 147,    3,    4,  148,    6],\n",
       "       ...,\n",
       "       [4703, 4645, 4646, 4704,    1],\n",
       "       [4702, 4703, 4705,    0,    1],\n",
       "       [4705, 4703, 4704, 4706,    1]])"
      ]
     },
     "execution_count": 686,
     "metadata": {},
     "output_type": "execute_result"
    }
   ],
   "source": [
    "element"
   ]
  },
  {
   "cell_type": "code",
   "execution_count": 543,
   "metadata": {},
   "outputs": [
    {
     "name": "stdout",
     "output_type": "stream",
     "text": [
      "[[62.5, 15.833], [62.917, 15.827]]\n",
      "[[62.5, 15.35], [62.917, 15.35]]\n",
      "[[62.917, 15.35], [62.917, 15.827]]\n",
      "[[62.5, 15.35], [62.5, 15.833]]\n",
      "---\n",
      "[62.917, 15.827]\n",
      "[62.917, 15.35]\n",
      "[62.5, 15.833]\n",
      "[62.5, 15.35]\n"
     ]
    }
   ],
   "source": [
    "aa = np.array(aa)\n",
    "aa = [list(i) for i in aa]\n",
    "y_max = sorted(aa, key=lambda x:(x[1]), reverse=True)[:2]\n",
    "y_min = sorted(aa, key=lambda x:(x[1]), reverse=False)[:2]\n",
    "x_max = sorted(aa, key=lambda x:(x[0]), reverse=True)[:2]\n",
    "x_min = sorted(aa, key=lambda x:(x[0]), reverse=False)[:2]\n",
    "\n",
    "\n",
    "print(y_max)\n",
    "print(y_min)\n",
    "print(x_max)\n",
    "print(x_min)\n",
    "\n",
    "n_1  = [i for i in x_max if i in y_max][0]\n",
    "n_2  = [i for i in x_max if i in y_min][0]\n",
    "n_3  = [i for i in x_min if i in y_max][0]\n",
    "n_4  = [i for i in x_min if i in y_min][0]\n",
    "\n",
    "print(\"---\")\n",
    "print(n_1)\n",
    "print(n_2)\n",
    "print(n_3)\n",
    "print(n_4)"
   ]
  },
  {
   "cell_type": "code",
   "execution_count": 539,
   "metadata": {},
   "outputs": [
    {
     "data": {
      "text/plain": [
       "[[62.917, 15.35], [62.917, 15.827]]"
      ]
     },
     "execution_count": 539,
     "metadata": {},
     "output_type": "execute_result"
    }
   ],
   "source": [
    "\n"
   ]
  },
  {
   "cell_type": "code",
   "execution_count": 513,
   "metadata": {},
   "outputs": [
    {
     "data": {
      "text/plain": [
       "[15.35, 15.827, 15.833]"
      ]
     },
     "execution_count": 513,
     "metadata": {},
     "output_type": "execute_result"
    }
   ],
   "source": [
    "aa = np.array(aa)\n",
    "sorted(list(set(list(aa[:, 1]))))"
   ]
  },
  {
   "cell_type": "code",
   "execution_count": 517,
   "metadata": {},
   "outputs": [
    {
     "data": {
      "text/plain": [
       "array([[62.5  , 15.35 ],\n",
       "       [62.917, 15.35 ],\n",
       "       [62.917, 15.827],\n",
       "       [62.5  , 15.833]])"
      ]
     },
     "execution_count": 517,
     "metadata": {},
     "output_type": "execute_result"
    }
   ],
   "source": [
    "aa"
   ]
  },
  {
   "cell_type": "code",
   "execution_count": 518,
   "metadata": {},
   "outputs": [
    {
     "data": {
      "text/plain": [
       "15.35"
      ]
     },
     "execution_count": 518,
     "metadata": {},
     "output_type": "execute_result"
    }
   ],
   "source": [
    "aa[1,1]"
   ]
  },
  {
   "cell_type": "code",
   "execution_count": 678,
   "metadata": {},
   "outputs": [],
   "source": [
    "element = sorted(element.tolist(), key=lambda x:(x[1]))"
   ]
  },
  {
   "cell_type": "code",
   "execution_count": 375,
   "metadata": {},
   "outputs": [],
   "source": [
    "    \n",
    "for i in range(len(element)):\n",
    "    aa = sorted(element[i][:4])\n",
    "\n",
    "    if 0 not in aa:\n",
    "        element[i][0] = aa[2]\n",
    "        element[i][1] = aa[0]\n",
    "        element[i][2] = aa[1]\n",
    "        element[i][3] = aa[3]\n",
    "    elif 0 in aa:\n",
    "        element[i][0] = aa[3]\n",
    "        element[i][1] = aa[1]\n",
    "        element[i][2] = aa[2]\n",
    "        element[i][3] = aa[0]\n",
    "        \n",
    "element = sorted(element, key=lambda x:(x[1]))"
   ]
  },
  {
   "cell_type": "code",
   "execution_count": null,
   "metadata": {},
   "outputs": [],
   "source": []
  },
  {
   "cell_type": "code",
   "execution_count": 449,
   "metadata": {},
   "outputs": [],
   "source": [
    "element_n = np.copy(element)"
   ]
  },
  {
   "cell_type": "code",
   "execution_count": 670,
   "metadata": {},
   "outputs": [],
   "source": [
    "# \"\"\"\n",
    "# test\n",
    "\n",
    "# \"\"\"\n",
    "# element_n = np.copy(element)\n",
    "# for i in range(len(element_n)):\n",
    "#     if 0 not in element_n[i]:\n",
    "#         aa = np.zeros([4, 2], dtype=np.float64)\n",
    "#         n1=element_n[i,0]-1; aa[0, 0]=node[:, 1][n1]; aa[0, 1]=node[:, 2][n1]\n",
    "#         n2=element_n[i,1]-1; aa[1, 0]=node[:, 1][n2]; aa[1, 1]=node[:, 2][n2]\n",
    "#         n3=element_n[i,2]-1; aa[2, 0]=node[:, 1][n3]; aa[2, 1]=node[:, 2][n3]\n",
    "#         n4=element_n[i,3]-1; aa[3, 0]=node[:, 1][n4]; aa[3, 1]=node[:, 2][n4]\n",
    "#         aa = np.array(aa)\n",
    "#         aa = sorted(aa, key=lambda x:(x[0]))\n",
    "#         aa = sorted(aa, key=lambda x:(x[1]))\n",
    "# #         aa = sorted(aa , key=lambda k: [k[1], k[0]])\n",
    "#         print(aa)\n",
    "#         print(element[i])\n",
    "#         print(x1,x2, x3, x4)\n",
    "#         print(y1, y2, y3, y4)\n",
    "#         element[i, 0] = int(node[np.where((aa[2][0]==node[:,1]) & (aa[2][1]==node[:,2])), 3][0][0])\n",
    "#         element[i, 1] = int(node[np.where((aa[0][0]==node[:,1]) & (aa[0][1]==node[:,2])), 3][0][0])\n",
    "#         element[i, 2] = int(node[np.where((aa[1][0]==node[:,1]) & (aa[1][1]==node[:,2])), 3][0][0])\n",
    "#         element[i, 3] = int(node[np.where((aa[3][0]==node[:,1]) & (aa[3][1]==node[:,2])), 3][0][0])\n",
    "#         print(element[i])\n",
    "#         print(x1,x2, x3, x4)\n",
    "#         print(y1, y2, y3, y4)\n",
    "#         print(\"-------\")"
   ]
  },
  {
   "cell_type": "code",
   "execution_count": 681,
   "metadata": {},
   "outputs": [],
   "source": [
    "element = np.array(element)"
   ]
  },
  {
   "cell_type": "code",
   "execution_count": 682,
   "metadata": {},
   "outputs": [
    {
     "data": {
      "text/plain": [
       "array([[   1,    2,  146,  145,    6],\n",
       "       [   2,    3,  147,  146,    6],\n",
       "       [   3,    4,  148,  147,    6],\n",
       "       ...,\n",
       "       [4645, 4646, 4704, 4703,    1],\n",
       "       [4702, 4703, 4705,    0,    1],\n",
       "       [4703, 4704, 4706, 4705,    1]])"
      ]
     },
     "execution_count": 682,
     "metadata": {},
     "output_type": "execute_result"
    }
   ],
   "source": [
    "element"
   ]
  },
  {
   "cell_type": "code",
   "execution_count": 377,
   "metadata": {},
   "outputs": [
    {
     "ename": "TypeError",
     "evalue": "list indices must be integers or slices, not tuple",
     "output_type": "error",
     "traceback": [
      "\u001b[1;31m---------------------------------------------------------------------------\u001b[0m",
      "\u001b[1;31mTypeError\u001b[0m                                 Traceback (most recent call last)",
      "\u001b[1;32m<ipython-input-377-11a51398cb37>\u001b[0m in \u001b[0;36m<module>\u001b[1;34m\u001b[0m\n\u001b[0;32m      6\u001b[0m     \u001b[1;32mif\u001b[0m \u001b[1;36m0\u001b[0m \u001b[1;32mnot\u001b[0m \u001b[1;32min\u001b[0m \u001b[0melement\u001b[0m\u001b[1;33m[\u001b[0m\u001b[0mi\u001b[0m\u001b[1;33m]\u001b[0m\u001b[1;33m:\u001b[0m\u001b[1;33m\u001b[0m\u001b[1;33m\u001b[0m\u001b[0m\n\u001b[0;32m      7\u001b[0m         \u001b[0maa\u001b[0m \u001b[1;33m=\u001b[0m \u001b[0mnp\u001b[0m\u001b[1;33m.\u001b[0m\u001b[0mzeros\u001b[0m\u001b[1;33m(\u001b[0m\u001b[1;33m[\u001b[0m\u001b[1;36m4\u001b[0m\u001b[1;33m,\u001b[0m \u001b[1;36m2\u001b[0m\u001b[1;33m]\u001b[0m\u001b[1;33m,\u001b[0m \u001b[0mdtype\u001b[0m\u001b[1;33m=\u001b[0m\u001b[0mnp\u001b[0m\u001b[1;33m.\u001b[0m\u001b[0mfloat64\u001b[0m\u001b[1;33m)\u001b[0m\u001b[1;33m\u001b[0m\u001b[1;33m\u001b[0m\u001b[0m\n\u001b[1;32m----> 8\u001b[1;33m         \u001b[0mn1\u001b[0m\u001b[1;33m=\u001b[0m\u001b[0melement\u001b[0m\u001b[1;33m[\u001b[0m\u001b[0mi\u001b[0m\u001b[1;33m,\u001b[0m\u001b[1;36m0\u001b[0m\u001b[1;33m]\u001b[0m\u001b[1;33m-\u001b[0m\u001b[1;36m1\u001b[0m\u001b[1;33m;\u001b[0m \u001b[0maa\u001b[0m\u001b[1;33m[\u001b[0m\u001b[1;36m0\u001b[0m\u001b[1;33m,\u001b[0m \u001b[1;36m0\u001b[0m\u001b[1;33m]\u001b[0m\u001b[1;33m=\u001b[0m\u001b[0mnode\u001b[0m\u001b[1;33m[\u001b[0m\u001b[1;33m:\u001b[0m\u001b[1;33m,\u001b[0m \u001b[1;36m1\u001b[0m\u001b[1;33m]\u001b[0m\u001b[1;33m[\u001b[0m\u001b[0mn1\u001b[0m\u001b[1;33m]\u001b[0m\u001b[1;33m;\u001b[0m \u001b[0maa\u001b[0m\u001b[1;33m[\u001b[0m\u001b[1;36m0\u001b[0m\u001b[1;33m,\u001b[0m \u001b[1;36m1\u001b[0m\u001b[1;33m]\u001b[0m\u001b[1;33m=\u001b[0m\u001b[0mnode\u001b[0m\u001b[1;33m[\u001b[0m\u001b[1;33m:\u001b[0m\u001b[1;33m,\u001b[0m \u001b[1;36m2\u001b[0m\u001b[1;33m]\u001b[0m\u001b[1;33m[\u001b[0m\u001b[0mn1\u001b[0m\u001b[1;33m]\u001b[0m\u001b[1;33m\u001b[0m\u001b[1;33m\u001b[0m\u001b[0m\n\u001b[0m\u001b[0;32m      9\u001b[0m         \u001b[0mn2\u001b[0m\u001b[1;33m=\u001b[0m\u001b[0melement\u001b[0m\u001b[1;33m[\u001b[0m\u001b[0mi\u001b[0m\u001b[1;33m,\u001b[0m\u001b[1;36m1\u001b[0m\u001b[1;33m]\u001b[0m\u001b[1;33m-\u001b[0m\u001b[1;36m1\u001b[0m\u001b[1;33m;\u001b[0m \u001b[0maa\u001b[0m\u001b[1;33m[\u001b[0m\u001b[1;36m1\u001b[0m\u001b[1;33m,\u001b[0m \u001b[1;36m0\u001b[0m\u001b[1;33m]\u001b[0m\u001b[1;33m=\u001b[0m\u001b[0mnode\u001b[0m\u001b[1;33m[\u001b[0m\u001b[1;33m:\u001b[0m\u001b[1;33m,\u001b[0m \u001b[1;36m1\u001b[0m\u001b[1;33m]\u001b[0m\u001b[1;33m[\u001b[0m\u001b[0mn2\u001b[0m\u001b[1;33m]\u001b[0m\u001b[1;33m;\u001b[0m \u001b[0maa\u001b[0m\u001b[1;33m[\u001b[0m\u001b[1;36m1\u001b[0m\u001b[1;33m,\u001b[0m \u001b[1;36m1\u001b[0m\u001b[1;33m]\u001b[0m\u001b[1;33m=\u001b[0m\u001b[0mnode\u001b[0m\u001b[1;33m[\u001b[0m\u001b[1;33m:\u001b[0m\u001b[1;33m,\u001b[0m \u001b[1;36m2\u001b[0m\u001b[1;33m]\u001b[0m\u001b[1;33m[\u001b[0m\u001b[0mn2\u001b[0m\u001b[1;33m]\u001b[0m\u001b[1;33m\u001b[0m\u001b[1;33m\u001b[0m\u001b[0m\n\u001b[0;32m     10\u001b[0m         \u001b[0mn3\u001b[0m\u001b[1;33m=\u001b[0m\u001b[0melement\u001b[0m\u001b[1;33m[\u001b[0m\u001b[0mi\u001b[0m\u001b[1;33m,\u001b[0m\u001b[1;36m2\u001b[0m\u001b[1;33m]\u001b[0m\u001b[1;33m-\u001b[0m\u001b[1;36m1\u001b[0m\u001b[1;33m;\u001b[0m \u001b[0maa\u001b[0m\u001b[1;33m[\u001b[0m\u001b[1;36m2\u001b[0m\u001b[1;33m,\u001b[0m \u001b[1;36m0\u001b[0m\u001b[1;33m]\u001b[0m\u001b[1;33m=\u001b[0m\u001b[0mnode\u001b[0m\u001b[1;33m[\u001b[0m\u001b[1;33m:\u001b[0m\u001b[1;33m,\u001b[0m \u001b[1;36m1\u001b[0m\u001b[1;33m]\u001b[0m\u001b[1;33m[\u001b[0m\u001b[0mn3\u001b[0m\u001b[1;33m]\u001b[0m\u001b[1;33m;\u001b[0m \u001b[0maa\u001b[0m\u001b[1;33m[\u001b[0m\u001b[1;36m2\u001b[0m\u001b[1;33m,\u001b[0m \u001b[1;36m1\u001b[0m\u001b[1;33m]\u001b[0m\u001b[1;33m=\u001b[0m\u001b[0mnode\u001b[0m\u001b[1;33m[\u001b[0m\u001b[1;33m:\u001b[0m\u001b[1;33m,\u001b[0m \u001b[1;36m2\u001b[0m\u001b[1;33m]\u001b[0m\u001b[1;33m[\u001b[0m\u001b[0mn3\u001b[0m\u001b[1;33m]\u001b[0m\u001b[1;33m\u001b[0m\u001b[1;33m\u001b[0m\u001b[0m\n",
      "\u001b[1;31mTypeError\u001b[0m: list indices must be integers or slices, not tuple"
     ]
    }
   ],
   "source": [
    "\"\"\"\n",
    "    1要素を構成する接点の並びを確認および修正するプログラム\n",
    "\"\"\"\n",
    "# node_n = np.copy(node)\n",
    "for i in range(len(element)):\n",
    "    if 0 not in element[i]:\n",
    "        aa = np.zeros([4, 2], dtype=np.float64)\n",
    "        n1=element[i,0]-1; aa[0, 0]=node[:, 1][n1]; aa[0, 1]=node[:, 2][n1]\n",
    "        n2=element[i,1]-1; aa[1, 0]=node[:, 1][n2]; aa[1, 1]=node[:, 2][n2]\n",
    "        n3=element[i,2]-1; aa[2, 0]=node[:, 1][n3]; aa[2, 1]=node[:, 2][n3]\n",
    "        n4=element[i,3]-1; aa[3, 0]=node[:, 1][n4]; aa[3, 1]=node[:, 2][n4]\n",
    "#         print(aa)\n",
    "        aa = np.array(aa)\n",
    "\n",
    "#         aa = sorted(aa, key=lambda x:(x[0]))\n",
    "#         aa = sorted(aa, key=lambda x:(x[1]))\n",
    "#         print(aa)\n",
    "#         print(\"----\")\n",
    "\n",
    "#         node[:, 1][n1] = aa[2][0]\n",
    "#         node[:, 1][n2] = aa[0][0]\n",
    "#         node[:, 1][n3] = aa[1][0]\n",
    "#         node[:, 1][n4] = aa[3][0]\n",
    "\n",
    "#         node[:, 2][n1] = aa[2][1]\n",
    "#         node[:, 2][n2] = aa[0][1]\n",
    "#         node[:, 2][n3] = aa[1][1]\n",
    "#         node[:, 2][n4] = aa[3][1]\n",
    "\n",
    "#         n1=element[i,0]-1; x1=node[:, 1][n1]; y1=node[:, 2][n1]\n",
    "#         n2=element[i,1]-1; x2=node[:, 1][n2]; y2=node[:, 2][n2]\n",
    "#         n3=element[i,2]-1; x3=node[:, 1][n3]; y3=node[:, 2][n3]\n",
    "#         n4=element[i,3]-1; x4=node[:, 1][n4]; y4=node[:, 2][n4]        \n",
    "\n",
    "#         if x1 > x3 or x1 > x4:\n",
    "#             print(\"a\", element[i])\n",
    "#             print(x1, x2, x3, x4)\n",
    "#             print(y1, y2, y3, y4)\n",
    "# #             node[:, 1][n1], node[:, 1][n4] = node[:, 1][n4], node[:, 1][n1]\n",
    "# #             node[:, 2][n1], node[:, 2][n4] = node[:, 2][n4], node[:, 2][n1]\n",
    "#         elif x2 > x3 or x2 > x4:\n",
    "#             print(\"b\", element[i])\n",
    "#             print(x1, x2, x3, x4)\n",
    "#             print(y1, y2, y3, y4)\n",
    "#         elif y1 < y2 or y1 < y3:\n",
    "#             print(\"c\")\n",
    "#         elif y4 < y2 or y4 < y3:\n",
    "#             print(\"d\")\n",
    "#         else:\n",
    "#             print(\"No problem\", end=\" \")\n",
    "\n",
    "#         if not y1 > y2:\n",
    "#             node[:, 1][n1], node[:, 1][n2] = node[:, 1][n2], node[:, 1][n1]\n",
    "#             node[:, 2][n1], node[:, 2][n2] = node[:, 2][n2], node[:, 2][n1]\n",
    "\n",
    "#         elif not y1 > y3:\n",
    "#             node[:, 1][n3], node[:, 1][n1] = node[:, 1][n1], node[:, 1][n3]\n",
    "#             node[:, 2][n3], node[:, 2][n1] = node[:, 2][n1], node[:, 2][n3]\n",
    "#             print(\"c\")\n",
    "#         elif not x3 > x1:\n",
    "#             node[:, 1][n3], node[:, 1][n1] = node[:, 1][n1], node[:, 1][n3]\n",
    "#             node[:, 2][n3], node[:, 2][n1] = node[:, 2][n1], node[:, 2][n3]\n",
    "#             print(\"b\")\n",
    "#         elif not x4 > x1:\n",
    "#             node[:, 1][n1], node[:, 1][n4] = node[:, 1][n4], node[:, 1][n1]\n",
    "#             node[:, 2][n1], node[:, 2][n4] = node[:, 2][n4], node[:, 2][n1]\n",
    "#             print(\"a\")\n",
    "\n",
    "    if 0 in element[i]:\n",
    "        n1=element[i,0]-1; x1=node[:, 1][n1]; y1=node[:, 2][n1]\n",
    "        n2=element[i,1]-1; x2=node[:, 1][n2]; y2=node[:, 2][n2]\n",
    "        n3=element[i,2]-1; x3=node[:, 1][n3]; y3=node[:, 2][n3]\n",
    "\n",
    "        \n"
   ]
  },
  {
   "cell_type": "code",
   "execution_count": 232,
   "metadata": {},
   "outputs": [
    {
     "data": {
      "text/plain": [
       "[3705, 3706, 3707, 3708]"
      ]
     },
     "execution_count": 232,
     "metadata": {},
     "output_type": "execute_result"
    }
   ],
   "source": [
    "aa"
   ]
  },
  {
   "cell_type": "code",
   "execution_count": null,
   "metadata": {},
   "outputs": [],
   "source": []
  },
  {
   "cell_type": "code",
   "execution_count": 687,
   "metadata": {},
   "outputs": [
    {
     "name": "stdout",
     "output_type": "stream",
     "text": [
      "* displacement\n",
      "[3313 3314 3457    0    2]\n",
      "[3702 3703 3798    0    2]\n",
      "[3797 3798 3893    0    2]\n",
      "[3703 3799 3798    0    1]\n",
      "[3800 3801 3896    0    1]\n",
      "[3798 3894 3893    0    1]\n",
      "[3987 3988 4083    0    2]\n",
      "[3893 3989 3988    0    1]\n",
      "[3991 3992 4086    0    1]\n",
      "[4083 4178 4177    0    1]\n",
      "[4275 4276 4370    0    1]\n",
      "[4366 4367 4460    0    2]\n",
      "[4614 4615 4659    0    2]\n",
      "[4643 4644 4702    0    1]\n",
      "[4702 4703 4705    0    1]\n"
     ]
    },
    {
     "data": {
      "image/png": "[encoded data removed]",
      "text/plain": [
       "<Figure size 7200x7200 with 1 Axes>"
      ]
     },
     "metadata": {
      "needs_background": "light"
     },
     "output_type": "display_data"
    }
   ],
   "source": [
    "\n",
    "import matplotlib.pyplot as plt\n",
    "xmin = 0\n",
    "xmax = max(node[:, 1])\n",
    "ymin = 0\n",
    "ymax = max(node[:, 2])\n",
    "\n",
    "fig = plt.figure(figsize=(100, 100))\n",
    "ax1=plt.subplot(111)\n",
    "ax1.set_xlim([xmin,xmax])\n",
    "ax1.set_ylim([ymin,ymax])\n",
    "ax1.set_xlabel('x-direction (m)')\n",
    "ax1.set_ylabel('y-direction (m)')\n",
    "ax1.spines['right'].set_visible(False)\n",
    "ax1.spines['top'].set_visible(False)\n",
    "ax1.yaxis.set_ticks_position('left')\n",
    "ax1.xaxis.set_ticks_position('bottom')\n",
    "aspect = (ymax-ymin)/(xmax-xmin)*(ax1.get_xlim()[1] - ax1.get_xlim()[0]) / (ax1.get_ylim()[1] - ax1.get_ylim()[0])\n",
    "ax1.set_aspect(aspect)\n",
    "\n",
    "\n",
    "# displacement\n",
    "print('* displacement')\n",
    "\n",
    "\\\n",
    "for i in range(len(element)):\n",
    "    if element[i][3] != 0:\n",
    "        n1=element[i,0]-1; x1=node[:, 1][n1]; y1=node[:, 2][n1]\n",
    "        n2=element[i,1]-1; x2=node[:, 1][n2]; y2=node[:, 2][n2]\n",
    "        n3=element[i,2]-1; x3=node[:, 1][n3]; y3=node[:, 2][n3]\n",
    "        n4=element[i,3]-1; x4=node[:, 1][n4]; y4=node[:, 2][n4]\n",
    "        if x1 > x3 or x1 > x4:\n",
    "            print(\"a\", element[i])\n",
    "            ax1.plot([x1,x2,x3,x4],[y1,y2,y3,y4],color='red',lw=0.4)\n",
    "            ax1.fill([x1,x2,x3,x4],[y1,y2,y3,y4],facecolor='red',edgecolor='red',lw=0.1)\n",
    "            break\n",
    "        elif x2 > x3 or x2 > x4:\n",
    "            print(\"b\", element[i])\n",
    "            ax1.plot([x1,x2,x3,x4],[y1,y2,y3,y4],color='red',lw=0.4)\n",
    "            ax1.fill([x1,x2,x3,x4],[y1,y2,y3,y4],facecolor='red',edgecolor='red',lw=0.1)\n",
    "        elif y1 < y2 or y1 < y3:\n",
    "            print(\"c\", element[i])\n",
    "            ax1.plot([x1,x2,x3,x4],[y1,y2,y3,y4],color='red',lw=0.4)\n",
    "            ax1.fill([x1,x2,x3,x4],[y1,y2,y3,y4],facecolor='red',edgecolor='red',lw=0.1)\n",
    "        elif y4 < y2 or y4 < y3:\n",
    "            print(\"d\", element[i])\n",
    "            ax1.plot([x1,x2,x3,x4],[y1,y2,y3,y4],color='red',lw=0.4) \n",
    "            ax1.fill([x1,x2,x3,x4],[y1,y2,y3,y4],facecolor='red',edgecolor='red',lw=0.1)\n",
    "        else:\n",
    "            ax1.plot([x1,x2,x3,x4],[y1,y2,y3,y4],color='k',lw=0.4)\n",
    "            ax1.fill([x1,x2,x3,x4],[y1,y2,y3,y4],facecolor='#777777',edgecolor='#777777',lw=0.1)\n",
    "\n",
    "    if element[i][3] == 0:\n",
    "        n1=element[i,0]-1; x1=node[:, 1][n1]; y1=node[:, 2][n1]\n",
    "        n2=element[i,1]-1; x2=node[:, 1][n2]; y2=node[:, 2][n2]\n",
    "        n3=element[i,2]-1; x3=node[:, 1][n3]; y3=node[:, 2][n3]\n",
    "        ax1.plot([x1,x2,x3],[y1,y2,y3],color='blue',lw=0.5)\n",
    "        ax1.fill([x1,x2,x3],[y1,y2,y3],facecolor='blue',edgecolor='blue',lw=0.1)\n",
    "        print(element[i])\n",
    "\n",
    "        \n",
    "plt.savefig(\"a.png\")"
   ]
  },
  {
   "cell_type": "code",
   "execution_count": 356,
   "metadata": {},
   "outputs": [],
   "source": [
    "import pandas as pd\n",
    "df = pd.DataFrame(element)\n",
    "df.to_csv(\"element_ori.csv\", index=None, header=None)"
   ]
  },
  {
   "cell_type": "code",
   "execution_count": 127,
   "metadata": {},
   "outputs": [
    {
     "name": "stdin",
     "output_type": "stream",
     "text": [
      "ARE YOU CALCULATE ONLY SEEPAGE?\n",
      " ONLY SEEPAGE FLOW=1  +DEFORMATION ANALYSIS=2  +NO=0 0\n",
      "ARE YOU CONSIDER JOINT ELEMENT?\n",
      " YES=1  NO=0 1\n",
      "ARE YOU CONSIDER EDGE CONDITION?\n",
      " YES=1  NO=0 1\n",
      "ARE YOU CONSIDER BEAM ELEMENT?\n",
      " BEAM ONLY=1  BEAM & JOINT=2  NO=0 2\n",
      "   ARE YOU CONSIDER LOADING?\n",
      " YES(INCREASE LOAD)=1  YES(CONSTANT LOAD )=2  NO=0 1\n",
      "ARE YOU CONSIDER WATER?\n",
      " YES=1  NO=0 0\n"
     ]
    }
   ],
   "source": [
    "\"\"\"\n",
    "    2Dyouso.dat作成\n",
    "\"\"\"\n",
    "\n",
    "q_1 = int(input(\"ARE YOU CALCULATE ONLY SEEPAGE?\\n ONLY SEEPAGE FLOW=1  +DEFORMATION ANALYSIS=2  +NO=0\"))\n",
    "\n",
    "q_2 = int(input(\"ARE YOU CONSIDER JOINT ELEMENT?\\n YES=1  NO=0\"))#5\n",
    "q_3 = int(input(\"ARE YOU CONSIDER EDGE CONDITION?\\n YES=1  NO=0\")) #7\n",
    "q_4 = int(input(\"ARE YOU CONSIDER BEAM ELEMENT?\\n BEAM ONLY=1  BEAM & JOINT=2  NO=0\"))#8\n",
    "q_5 = int(input(\"   ARE YOU CONSIDER LOADING?\\n YES(INCREASE LOAD)=1  YES(CONSTANT LOAD )=2  NO=0\"))#4\n",
    "q_6 = int(input(\"ARE YOU CONSIDER WATER?\\n YES=1  NO=0\"))#6"
   ]
  },
  {
   "cell_type": "code",
   "execution_count": 688,
   "metadata": {},
   "outputs": [],
   "source": [
    "file = open(\"2Dyouso.dat\", \"w\", encoding='CP932')\n",
    "\n",
    "\n",
    "con_1 = [int(node_n[i, 2]) for i in range(npm) if node_n[i,1] == min(node_n[:, 1])]\n",
    "con_2 = [int(node_n[i, 2]) for i in range(npm) if node_n[i,0] == min(node_n[:, 0]) or node_n[i,0] == max(node_n[:, 0])]\n",
    "con_2 = [i for i in con_2 if i not in con_1]\n",
    "\n",
    "con_1 = sorted(con_1)\n",
    "con_2 = sorted(con_2)\n",
    "\n",
    "\n",
    "kousoku = len(con_1) * 2 + len(con_2)\n",
    "jiban = max(element[:, 4])\n",
    "\n",
    "file.write(str(npm).rjust(5) + str(nem).rjust(5) + str(kousoku).rjust(5) +  str(jiban).rjust(5) +  \"0\".rjust(5) +  \"0\".rjust(5)+\"\\n\")\n",
    "\n",
    "\n",
    "file.write(\"    0    0\\n\")\n",
    "file.write(\"    0    0\\n\")\n",
    "file.write(\"    0    0    0    0    0\\n\")\n",
    "file.write(\"    0 1000\\n\")\n",
    "file.write(\"    0    0    0\\n\")\n",
    "file.write(\"E1000\\n\")\n",
    "\n",
    "file.write(\"    3    1    1    {a}    {b}    {c}    {d}    {e}    0    0\\n\".format(a=q_5, b=q_2, c=q_6, d=q_3, e=q_4)) #<---入力の数字によって変更\n",
    "file.write(\"    0    0    0    0    0    0    0    0    0    0\\n\")\n",
    "file.write(\"    0    0    0    0    0    0    0    0    0    0\\n\")\n",
    "file.write(\"    1.0d-4   1.0d-10    1.0d-2    1.0d-6    1.0d10    1.0d-7   0.0d+0    1.0d+0    2\\n\")\n",
    "file.write(\"    2.0d-3 2302.0d-3    0.0d+0    1.4d+0    1.0d-0    1.0d-1\\n\")\n",
    "file.write(\"    1.0d-8         0\\n\")\n",
    "file.write(\"    1  1        9.1000000000        0.0005000000      -86.0000000000       33.7100000000\\n\")\n",
    "file.write(\"    1  2        9.1000000000        0.0005000000      -86.0000000000       33.7100000000\\n\")\n",
    "file.write(\"E   1  3        0.0000000000        0.0000000000        0.0000000000        1.2000000000\\n\")\n",
    "file.write(\"  1  2  2  0  0  0  0  8  0  0  0  1 -2\\n\")\n",
    "file.write(\"E    1    10000.00000        0.49999   0.00000    0.0000    50000.00000   0.00000\\n\")\n",
    "\n",
    "\n",
    "for i in range(len(element_n)):\n",
    "    if i+1 != len(element_n):\n",
    "        file.write(str(i+1).rjust(6) + str(element_n[i][0]).rjust(5) + str(element_n[i][1]).rjust(5) + str(element_n[i][2]).rjust(5) + str(element_n[i][3]).rjust(5) + str(element_n[i][4]).rjust(5) + \"\\n\")\n",
    "    else:\n",
    "        file.write(\"E\" +str(i+1).rjust(5) + str(element_n[i][0]).rjust(5) + str(element_n[i][1]).rjust(5) + str(element_n[i][2]).rjust(5) + str(element_n[i][3]).rjust(5) + str(element_n[i][4]).rjust(5) + \"\\n\")\n",
    "    \n",
    "for i in range(len(node_n)):\n",
    "    if i+1 != len(node_n):\n",
    "        file.write(str(i+1).rjust(6) + f\"{node_n[i, 1]:15.05f}\" + f\"{node_n[i, 2]:15.05f}\" + \"\\n\")\n",
    "    else:\n",
    "        file.write(\"E\" + str(i+1).rjust(5) + f\"{node_n[i, 1]:15.05f}\" + f\"{node_n[i, 2]:15.05f}\" + \"\\n\")\n",
    "\n",
    "con_1 = [int(node_n[i, 3]) for i in range(npm) if node_n[i,1] == min(node_n[:, 1])]\n",
    "con_2 = [int(node_n[i, 3]) for i in range(npm) if node_n[i,0] == min(node_n[:, 0]) or node_n[i,0] == max(node_n[:, 0])]\n",
    "con_2 = [i for i in con_2 if i not in con_1]\n",
    "\n",
    "con_1 = sorted(con_1)\n",
    "con_2 = sorted(con_2)\n",
    "\n",
    "for i in range(len(con_1)):\n",
    "    file.write(str(con_1[i]).rjust(6) + \"    1    1\" + \"\\n\")\n",
    "\n",
    "for i in range(len(con_2)):\n",
    "    if i+1 != len(con_2):\n",
    "        file.write(str(con_2[i]).rjust(6) + \"    1    0\" + \"\\n\")\n",
    "    else:\n",
    "        file.write(\"E\" + str(con_2[i]).rjust(5) + \"    1    0\" + \"\\n\")\n",
    "        \n",
    "        \n",
    "if q_2 == 1:\n",
    "    file.write(dummy_text[\"joint\"])\n",
    "    \n",
    "if q_3 == 1:\n",
    "    file.write(dummy_text[\"edge\"])\n",
    "\n",
    "if q_4 == 1:\n",
    "    file.write(dummy_text[\"beam\"])\n",
    "    \n",
    "if q_4 == 2:\n",
    "    file.write(dummy_text[\"beam\"])\n",
    "    file.write(dummy_text[\"beam_joint\"])\n",
    "file.close()"
   ]
  },
  {
   "cell_type": "code",
   "execution_count": null,
   "metadata": {},
   "outputs": [],
   "source": [
    "\n"
   ]
  },
  {
   "cell_type": "code",
   "execution_count": 129,
   "metadata": {},
   "outputs": [],
   "source": [
    "dummy_text = {\"edge\":\n",
    "\"\"\"     1   0.000d0   0.000d0     1.00000d-5\n",
    "E    2   0.000d0   0.000d0    1.00000d+10\n",
    "     1  676  817    1\n",
    "E    2  701  842    1\n",
    "\"\"\",\n",
    "              \"beam\":\n",
    "\"\"\"E    1  1.000d+5  2.000d-1  2.000d+2  1.000d+2  1.000d-1\n",
    "     1 7702 7703    1      \n",
    "E    1 7703 7704    1      \n",
    "  7702        0.00000        0.00000\n",
    "  7703        0.00000        0.00000\n",
    "E 7704        0.00000        0.00000\n",
    "  7702    0    0    0            \n",
    "  7703    0    0    0            \n",
    "E 7704    0    0    0            \n",
    "\"\"\",\n",
    "              \"joint\":\n",
    "\"\"\"E    1  30.00000  30.00000       20.00000   0.00000\n",
    "     1   92   93   64   58    1      0.00000         0.000000000000000E+00         0.000000000000000E+00    0\n",
    "E    2   92   93   64   58    1      0.00000         0.000000000000000E+00         0.000000000000000E+00    0\n",
    "\"\"\",\n",
    "              \"beam_joint\":\n",
    "\"\"\"E    1  30.00000  30.00000       20.00000  17.50000\n",
    "     1 1874 1875 7702 7703    1      0.00000         0.000000000000000E+00         0.000000000000000E+00    1\n",
    "E    2 1874 1875 7703 7704    1      0.00000         0.000000000000000E+00         0.000000000000000E+00    1\n",
    "\"\"\",\n",
    "              \"loading\":\n",
    "\"\"\"     1        0.00000       -1.00000\n",
    "     2        0.00000       -1.00000\n",
    "E    3        0.00000       -1.00000\n",
    "     1    2\n",
    "E    2    3\n",
    "     1        0.00000       -1.00000\n",
    "     2        0.00000       -1.00000\n",
    "E    3        0.00000       -1.00000\n",
    "     1    2\n",
    "E    2    3\n",
    "     1        0.00000       -1.00000\n",
    "     2        0.00000       -1.00000\n",
    "E    3        0.00000       -1.00000\n",
    "\"\"\",\n",
    "              \"water\":\n",
    "\"\"\"                   ---Sis---                     ---Sir--- \n",
    "    1   0.32700   0.00000\n",
    "                    ---Se---                     ---Pres--- \n",
    "\"\"\",\n",
    "              \"seepage\":\n",
    "\"\"\"    1    0    0    0    0    0    0    0    0    0\n",
    "    1.0d-0\n",
    "E   1  3.600d-4    1.2d-4   0.00000   0.34800   0.00000   5.22000   5.67800\n",
    "   774        0.00000    5     0.000\n",
    "   775        0.00000    1     0.000\n",
    "   776        0.00000    1     0.000\n",
    "   777        0.00000    0     0.000\n",
    "E  778        0.00000    0     0.000\n",
    "        0.00000     0\n",
    "\"\"\"\n",
    "             }\n"
   ]
  },
  {
   "cell_type": "code",
   "execution_count": null,
   "metadata": {},
   "outputs": [],
   "source": []
  },
  {
   "cell_type": "code",
   "execution_count": null,
   "metadata": {},
   "outputs": [],
   "source": []
  }
 ],
 "metadata": {
  "kernelspec": {
   "display_name": "Python 3",
   "language": "python",
   "name": "python3"
  },
  "language_info": {
   "codemirror_mode": {
    "name": "ipython",
    "version": 3
   },
   "file_extension": ".py",
   "mimetype": "text/x-python",
   "name": "python",
   "nbconvert_exporter": "python",
   "pygments_lexer": "ipython3",
   "version": "3.8.6"
  }
 },
 "nbformat": 4,
 "nbformat_minor": 4
}
